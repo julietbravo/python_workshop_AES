{
 "cells": [
  {
   "cell_type": "markdown",
   "metadata": {
    "slideshow": {
     "slide_type": "slide"
    }
   },
   "source": [
    "# Introduction to Python for scientific research\n",
    "*Bart van Stratum, Max Planck Institute for Meteorology, Hamburg*\n",
    "\n",
    "AES Python workshop, 7-8 October 2015, MPI-M\n",
    "\n",
    "This notebook is available at:  \n",
    "https://github.com/julietbravo/python_workshop_AES/blob/master/Python_introduction.ipynb"
   ]
  },
  {
   "cell_type": "markdown",
   "metadata": {
    "slideshow": {
     "slide_type": "subslide"
    }
   },
   "source": [
    "# 1 Introduction\n",
    "### The origin of Python\n",
    "\n",
    "> *\"Over six years ago, in December 1989, I was looking for a \"hobby\" programming project that would keep me occupied during the week around Christmas...”* — Guido van Rossum\n",
    "\n",
    "### Python: general-purpose, high-level programming language \n",
    "* General purpose: more than a plotting language!  \n",
    "􏰀  * One of the key languages at e.g. Google, CERN, NASA, MPI-M(?)   \n",
    "* High-level: focus on code readability, short syntax  \n",
    "* Interpreted language"
   ]
  },
  {
   "cell_type": "markdown",
   "metadata": {
    "slideshow": {
     "slide_type": "subslide"
    }
   },
   "source": [
    "### Why use Python for your research?\n",
    "*(my personal opinion, and in random order)*\n",
    "\n",
    "1. Easy to learn, and read / write code\n",
    "2. It's free and open source (unlike Matlab, IDL, ...)\n",
    "3. Well documented, easy to get support\n",
    "4. Capable of handling your entire scientific workflow\n",
    "\n",
    "> *\"Python enables users to do more and better science\"* \n",
    "\n",
    "*Johnny Wei-Bing Lin, 2012: Why Python Is the Next Wave in Earth Sciences Computing. Bull. Amer. Meteor. Soc., 93, 1823–1824.*"
   ]
  },
  {
   "cell_type": "markdown",
   "metadata": {
    "slideshow": {
     "slide_type": "subslide"
    }
   },
   "source": [
    "### Python 2 or Python 3\n",
    "Extensive discussion at https://wiki.python.org/moin/Python2orPython3\n",
    "> Python 2.x is legacy, Python 3.x is the present and future\n",
    "\n",
    "* Python 3: released in 2008, actively developed version, currently at v3.5\n",
    "* Python 2: last release in 2010, maintained but not actively developed\n",
    "  \n",
    "Python 3 = backwards-incompatible release! Some Python 3 features backported to 2.7\n",
    "\n",
    "#### My recommendation: if you just get started, use Python 3"
   ]
  },
  {
   "cell_type": "markdown",
   "metadata": {
    "slideshow": {
     "slide_type": "slide"
    }
   },
   "source": [
    "# 2 Getting started with Python\n",
    "## 2.1 Install or load Python\n",
    "Python core is by default installed on (almost?) all Linux distributions and OS X. Useful extensions (discussed later) mostly available through package managers  \n",
    "\n",
    "##### On MPI systems (desktops, Thunder, Mistral): \n",
    "* `module load python` (Python 2.7)\n",
    "* `module load python3/3.4.2` (Python 3.4, not available on Mistral)\n",
    "\n",
    "##### OS X using Macports:\n",
    "* `python34 py34-ipython py34-numpy py34-matplotlib py34-netcdf4` (`py34-matplotlib-basemap`) packages\n",
    "\n",
    "##### Linux: \n",
    "* package names similar to OS X / Macports\n",
    "\n",
    "##### Windows (untested):\n",
    "* Enthought Canopy (https://www.enthought.com)  \n",
    "  * Free version available which excludes... support for plotting maps"
   ]
  },
  {
   "cell_type": "markdown",
   "metadata": {
    "slideshow": {
     "slide_type": "subslide"
    }
   },
   "source": [
    "## 2.2 Running Python code\n",
    "\n",
    "Two options:\n",
    "1. Write code in a script, call Python interpreter (`$python script.py`)\n",
    "2. Run code in interactive Python shell (IPython), great for development and debugging: \n",
    "  * Allows you to run scripts, interactively type code, access variables, etc.\n",
    "\n",
    "Example IPython (start from command line with `ipython`):"
   ]
  },
  {
   "cell_type": "code",
   "execution_count": 53,
   "metadata": {
    "collapsed": false,
    "slideshow": {
     "slide_type": "fragment"
    }
   },
   "outputs": [
    {
     "name": "stdout",
     "output_type": "stream",
     "text": [
      "print('hello world!')\r\n",
      "pi = 3.1415\r\n"
     ]
    }
   ],
   "source": [
    "!cat hello_world.py"
   ]
  },
  {
   "cell_type": "code",
   "execution_count": 1,
   "metadata": {
    "collapsed": false,
    "slideshow": {
     "slide_type": "fragment"
    }
   },
   "outputs": [
    {
     "name": "stdout",
     "output_type": "stream",
     "text": [
      "hello world!\n"
     ]
    }
   ],
   "source": [
    "run hello_world.py"
   ]
  },
  {
   "cell_type": "markdown",
   "metadata": {
    "slideshow": {
     "slide_type": "fragment"
    }
   },
   "source": [
    "Possible to directly access/manipulate variables in the interactive shell:"
   ]
  },
  {
   "cell_type": "code",
   "execution_count": 2,
   "metadata": {
    "collapsed": false,
    "slideshow": {
     "slide_type": "fragment"
    }
   },
   "outputs": [
    {
     "data": {
      "text/plain": [
       "9.4245"
      ]
     },
     "execution_count": 2,
     "metadata": {},
     "output_type": "execute_result"
    }
   ],
   "source": [
    "3*pi"
   ]
  },
  {
   "cell_type": "markdown",
   "metadata": {
    "slideshow": {
     "slide_type": "subslide"
    }
   },
   "source": [
    "## 2.3 Python extensions (packages)\n",
    "Python standard library provides basic functionality, often useful (or necessary) to extend for our type of work.\n",
    "\n",
    "Useful examples:\n",
    "1. NumPy: multi-dimensional arrays + functions to manipulate them (*Chiel's talk*)\n",
    "2. matplotlib (pylab): plotting (line, scatter, histogram, contour, ...)\n",
    "3. Basemap: plotting of maps (*Sebastian's talk*)\n",
    "4. netCDF4/PyNIO: reading / writing netCDF files\n",
    "\n",
    "Many more: PyNGL (Python interface to NCL), Pandas (Python data analysis library), .."
   ]
  },
  {
   "cell_type": "markdown",
   "metadata": {
    "slideshow": {
     "slide_type": "subslide"
    }
   },
   "source": [
    "#### How to use the packages: import statement"
   ]
  },
  {
   "cell_type": "code",
   "execution_count": 3,
   "metadata": {
    "collapsed": false,
    "slideshow": {
     "slide_type": "fragment"
    }
   },
   "outputs": [
    {
     "data": {
      "text/plain": [
       "(array([ 0.,  0.]), array([ 1.,  1.]))"
      ]
     },
     "execution_count": 3,
     "metadata": {},
     "output_type": "execute_result"
    }
   ],
   "source": [
    "import numpy   # import using default name\n",
    "numpy.zeros(2), numpy.ones(2)"
   ]
  },
  {
   "cell_type": "code",
   "execution_count": 4,
   "metadata": {
    "collapsed": false,
    "slideshow": {
     "slide_type": "fragment"
    }
   },
   "outputs": [
    {
     "data": {
      "text/plain": [
       "(array([ 0.,  0.]), array([ 1.,  1.]))"
      ]
     },
     "execution_count": 4,
     "metadata": {},
     "output_type": "execute_result"
    }
   ],
   "source": [
    "import numpy as np   # abbreviated name\n",
    "np.zeros(2), np.ones(2)"
   ]
  },
  {
   "cell_type": "code",
   "execution_count": 5,
   "metadata": {
    "collapsed": true,
    "slideshow": {
     "slide_type": "skip"
    }
   },
   "outputs": [],
   "source": [
    "reset -f "
   ]
  },
  {
   "cell_type": "code",
   "execution_count": 6,
   "metadata": {
    "collapsed": false,
    "slideshow": {
     "slide_type": "fragment"
    }
   },
   "outputs": [
    {
     "data": {
      "text/plain": [
       "array([ 0.,  0.])"
      ]
     },
     "execution_count": 6,
     "metadata": {},
     "output_type": "execute_result"
    }
   ],
   "source": [
    "from numpy import zeros   # specific import\n",
    "zeros(2)\n",
    "#ones(2) # won't work"
   ]
  },
  {
   "cell_type": "code",
   "execution_count": 7,
   "metadata": {
    "collapsed": false,
    "slideshow": {
     "slide_type": "fragment"
    }
   },
   "outputs": [
    {
     "data": {
      "text/plain": [
       "(array([ 0.,  0.]), array([ 1.,  1.]))"
      ]
     },
     "execution_count": 7,
     "metadata": {},
     "output_type": "execute_result"
    }
   ],
   "source": [
    "from numpy import *   # import everything\n",
    "zeros(2), ones(2)"
   ]
  },
  {
   "cell_type": "markdown",
   "metadata": {
    "slideshow": {
     "slide_type": "fragment"
    }
   },
   "source": [
    "`import *` can be tricky: "
   ]
  },
  {
   "cell_type": "code",
   "execution_count": 8,
   "metadata": {
    "collapsed": false,
    "slideshow": {
     "slide_type": "fragment"
    }
   },
   "outputs": [
    {
     "data": {
      "text/plain": [
       "3.141592653589793"
      ]
     },
     "execution_count": 8,
     "metadata": {},
     "output_type": "execute_result"
    }
   ],
   "source": [
    "pi = 0\n",
    "from numpy import *\n",
    "pi"
   ]
  },
  {
   "cell_type": "markdown",
   "metadata": {
    "slideshow": {
     "slide_type": "fragment"
    }
   },
   "source": [
    "\"`import package`\" or \"`import package as abc`\" most often used: always clear where functions/routines/constants come from. "
   ]
  },
  {
   "cell_type": "code",
   "execution_count": 9,
   "metadata": {
    "collapsed": true,
    "slideshow": {
     "slide_type": "skip"
    }
   },
   "outputs": [],
   "source": [
    "reset -f "
   ]
  },
  {
   "cell_type": "markdown",
   "metadata": {
    "slideshow": {
     "slide_type": "slide"
    }
   },
   "source": [
    "# 3 Python basics\n",
    "## 3.1 Variables\n",
    "\n",
    "Python uses *duck typing*:\n",
    "> *\"If a bird looks like a duck, swims like a duck, and quacks like a duck, then it probably is a duck.\"*"
   ]
  },
  {
   "cell_type": "code",
   "execution_count": 10,
   "metadata": {
    "collapsed": false,
    "slideshow": {
     "slide_type": "fragment"
    }
   },
   "outputs": [
    {
     "data": {
      "text/plain": [
       "(int, float, str)"
      ]
     },
     "execution_count": 10,
     "metadata": {},
     "output_type": "execute_result"
    }
   ],
   "source": [
    "var_1 = 1\n",
    "var_2 = 1.\n",
    "var_3 = \"1\"\n",
    "\n",
    "type(var_1), type(var_2), type(var_3)"
   ]
  },
  {
   "cell_type": "markdown",
   "metadata": {
    "slideshow": {
     "slide_type": "fragment"
    }
   },
   "source": [
    "If necessary, you can cast variables to another type:"
   ]
  },
  {
   "cell_type": "code",
   "execution_count": 11,
   "metadata": {
    "collapsed": false,
    "slideshow": {
     "slide_type": "fragment"
    }
   },
   "outputs": [
    {
     "data": {
      "text/plain": [
       "(float, str, int)"
      ]
     },
     "execution_count": 11,
     "metadata": {},
     "output_type": "execute_result"
    }
   ],
   "source": [
    "var_1 = float(1)\n",
    "var_2 = str(1.)\n",
    "var_3 = int(\"1\")\n",
    "\n",
    "type(var_1), type(var_2), type(var_3)"
   ]
  },
  {
   "cell_type": "markdown",
   "metadata": {
    "slideshow": {
     "slide_type": "subslide"
    }
   },
   "source": [
    "### Strings\n",
    "Most simple construction: put something (anything) in between quotation marks:"
   ]
  },
  {
   "cell_type": "code",
   "execution_count": 12,
   "metadata": {
    "collapsed": true,
    "slideshow": {
     "slide_type": "fragment"
    }
   },
   "outputs": [],
   "source": [
    "s1 = 'Im a string!'\n",
    "s2 = \"me too!\""
   ]
  },
  {
   "cell_type": "markdown",
   "metadata": {
    "slideshow": {
     "slide_type": "fragment"
    }
   },
   "source": [
    "Can be combined with the formating of numbers/strings:"
   ]
  },
  {
   "cell_type": "code",
   "execution_count": 13,
   "metadata": {
    "collapsed": false,
    "slideshow": {
     "slide_type": "fragment"
    }
   },
   "outputs": [
    {
     "data": {
      "text/plain": [
       "'pi =   3.1416'"
      ]
     },
     "execution_count": 13,
     "metadata": {},
     "output_type": "execute_result"
    }
   ],
   "source": [
    "import numpy as np\n",
    "\n",
    "a = 'pi = {0:8.4f}'.format(np.pi)\n",
    "a"
   ]
  },
  {
   "cell_type": "markdown",
   "metadata": {
    "slideshow": {
     "slide_type": "fragment"
    }
   },
   "source": [
    "Examples:"
   ]
  },
  {
   "cell_type": "code",
   "execution_count": 14,
   "metadata": {
    "collapsed": false,
    "slideshow": {
     "slide_type": "fragment"
    }
   },
   "outputs": [
    {
     "data": {
      "text/plain": [
       "('3.141592653589793',\n",
       " '3.141592653589793 2.718281828459045',\n",
       " '2.718281828459045 3.141592653589793',\n",
       " '  3.14',\n",
       " '3.14  ',\n",
       " ' 3.14 ')"
      ]
     },
     "execution_count": 14,
     "metadata": {},
     "output_type": "execute_result"
    }
   ],
   "source": [
    "a = '{}'.format(np.pi)               # minimal\n",
    "b = '{} {}'.format(np.pi, np.e)      # multiple numbers\n",
    "c = '{1} {0}'.format(np.pi, np.e)    # indicate order\n",
    "d = '{0:6.2f}'.format(np.pi)         # specify width / decimals\n",
    "e = '{0:<6.2f}'.format(np.pi)        # alignment left\n",
    "f = '{0:^6.2f}'.format(np.pi)        # alignment center\n",
    "\n",
    "a, b, c, d, e, f"
   ]
  },
  {
   "cell_type": "markdown",
   "metadata": {
    "slideshow": {
     "slide_type": "fragment"
    }
   },
   "source": [
    "Slicing of string is possible:"
   ]
  },
  {
   "cell_type": "code",
   "execution_count": 15,
   "metadata": {
    "collapsed": false,
    "slideshow": {
     "slide_type": "fragment"
    }
   },
   "outputs": [
    {
     "data": {
      "text/plain": [
       "('I', \"I'm a\", \"I'm a string!\")"
      ]
     },
     "execution_count": 15,
     "metadata": {},
     "output_type": "execute_result"
    }
   ],
   "source": [
    "a = \"I'm a string!\"\n",
    "a[0], a[0:5], a[:]"
   ]
  },
  {
   "cell_type": "markdown",
   "metadata": {
    "slideshow": {
     "slide_type": "fragment"
    }
   },
   "source": [
    "*Note that indexing starts at zero, slicing exludes last element*\n",
    "\n",
    "(Nearly) infinite number of possibilities, see e.g. https://pyformat.info for examples "
   ]
  },
  {
   "cell_type": "markdown",
   "metadata": {
    "slideshow": {
     "slide_type": "subslide"
    }
   },
   "source": [
    "## 3.2 Data structures\n",
    "\n",
    "### 3.2.1 Lists: constructor [a,b,c]"
   ]
  },
  {
   "cell_type": "code",
   "execution_count": 16,
   "metadata": {
    "collapsed": false,
    "slideshow": {
     "slide_type": "fragment"
    }
   },
   "outputs": [],
   "source": [
    "time = [0,1,2,3,4,5,6,7,8,9]"
   ]
  },
  {
   "cell_type": "markdown",
   "metadata": {
    "slideshow": {
     "slide_type": "fragment"
    }
   },
   "source": [
    "Values accessible based on index or (strided) slice:  "
   ]
  },
  {
   "cell_type": "code",
   "execution_count": 17,
   "metadata": {
    "collapsed": false,
    "slideshow": {
     "slide_type": "fragment"
    }
   },
   "outputs": [
    {
     "data": {
      "text/plain": [
       "(0, [1, 2, 3], [0, 2, 4])"
      ]
     },
     "execution_count": 17,
     "metadata": {},
     "output_type": "execute_result"
    }
   ],
   "source": [
    "time[0], time[1:4], time[0:6:2]"
   ]
  },
  {
   "cell_type": "markdown",
   "metadata": {
    "slideshow": {
     "slide_type": "fragment"
    }
   },
   "source": [
    "Lists can easily be manipulated:"
   ]
  },
  {
   "cell_type": "code",
   "execution_count": 18,
   "metadata": {
    "collapsed": false,
    "slideshow": {
     "slide_type": "fragment"
    }
   },
   "outputs": [
    {
     "data": {
      "text/plain": [
       "[1, 2, 3, 4, 5, 7, 8, 9, 10]"
      ]
     },
     "execution_count": 18,
     "metadata": {},
     "output_type": "execute_result"
    }
   ],
   "source": [
    "time.append(10) # Append a value\n",
    "time.remove(0)  # Remove first occurance of value\n",
    "time.pop(5)     # Remove an element\n",
    "time"
   ]
  },
  {
   "cell_type": "markdown",
   "metadata": {
    "slideshow": {
     "slide_type": "subslide"
    }
   },
   "source": [
    "### 3.2.2 Tuples: constructor (a,b,c) \n",
    "Like a list, but not mutable"
   ]
  },
  {
   "cell_type": "code",
   "execution_count": 19,
   "metadata": {
    "collapsed": false,
    "slideshow": {
     "slide_type": "fragment"
    }
   },
   "outputs": [
    {
     "data": {
      "text/plain": [
       "('hamburg', 'cabauw', 'karlsruhe')"
      ]
     },
     "execution_count": 19,
     "metadata": {},
     "output_type": "execute_result"
    }
   ],
   "source": [
    "stations = ('hamburg','cabauw','karlsruhe')\n",
    "stations"
   ]
  },
  {
   "cell_type": "markdown",
   "metadata": {
    "slideshow": {
     "slide_type": "fragment"
    }
   },
   "source": [
    "After defining them, unable to change, append or remove items"
   ]
  },
  {
   "cell_type": "markdown",
   "metadata": {
    "slideshow": {
     "slide_type": "subslide"
    }
   },
   "source": [
    "### 3.2.3 Dictionaries: constructor {'a':0, 'b':1}\n",
    "Combination of keys and values, values accessible by keys:"
   ]
  },
  {
   "cell_type": "code",
   "execution_count": 20,
   "metadata": {
    "collapsed": false,
    "slideshow": {
     "slide_type": "fragment"
    }
   },
   "outputs": [
    {
     "data": {
      "text/plain": [
       "(290, -2)"
      ]
     },
     "execution_count": 20,
     "metadata": {},
     "output_type": "execute_result"
    }
   ],
   "source": [
    "data = {'T': 290, 'q': 10e-3, 'u': -2}\n",
    "data['T'], data['u']"
   ]
  },
  {
   "cell_type": "markdown",
   "metadata": {
    "slideshow": {
     "slide_type": "fragment"
    }
   },
   "source": [
    "Are mutable:"
   ]
  },
  {
   "cell_type": "code",
   "execution_count": 21,
   "metadata": {
    "collapsed": false,
    "slideshow": {
     "slide_type": "fragment"
    }
   },
   "outputs": [
    {
     "data": {
      "text/plain": [
       "{'T': 300, 'q': 0.01, 'v': 3}"
      ]
     },
     "execution_count": 21,
     "metadata": {},
     "output_type": "execute_result"
    }
   ],
   "source": [
    "data['T'] = 300  # Change element\n",
    "data['v'] = 3    # Add element\n",
    "data.pop('u')    # Remove element (or del data['u'])\n",
    "data"
   ]
  },
  {
   "cell_type": "markdown",
   "metadata": {
    "slideshow": {
     "slide_type": "subslide"
    }
   },
   "source": [
    "### 3.2.4 Numpy arrays"
   ]
  },
  {
   "cell_type": "code",
   "execution_count": 22,
   "metadata": {
    "collapsed": false,
    "slideshow": {
     "slide_type": "fragment"
    }
   },
   "outputs": [],
   "source": [
    "import numpy as np\n",
    "a1 = np.zeros(4)  # Array initialized with zeros\n",
    "a2 = np.ones(4)   #   \"         \"      \"   ones\n",
    "a3 = np.empty(4)  # Uninitialized array"
   ]
  },
  {
   "cell_type": "markdown",
   "metadata": {
    "slideshow": {
     "slide_type": "fragment"
    }
   },
   "source": [
    "Multi-dimensional arrays:"
   ]
  },
  {
   "cell_type": "code",
   "execution_count": 23,
   "metadata": {
    "collapsed": false,
    "slideshow": {
     "slide_type": "fragment"
    }
   },
   "outputs": [],
   "source": [
    "a4 = np.zeros((2,2,2))\n",
    "a5 = np.zeros((2,2,2), dtype=np.int)"
   ]
  },
  {
   "cell_type": "markdown",
   "metadata": {
    "slideshow": {
     "slide_type": "fragment"
    }
   },
   "source": [
    "Advantage over lists: easier to create multi-dimensional arrays, efficient methods of manipulating/analyzing them.  \n",
    "\n",
    "More information on Numpy arrays and how to efficiently use them in Chiel's talk"
   ]
  },
  {
   "cell_type": "markdown",
   "metadata": {
    "slideshow": {
     "slide_type": "subslide"
    }
   },
   "source": [
    "## 3.3 Loops\n",
    "\n",
    "Two options: `for:` and `while:`"
   ]
  },
  {
   "cell_type": "code",
   "execution_count": 24,
   "metadata": {
    "collapsed": false,
    "slideshow": {
     "slide_type": "fragment"
    }
   },
   "outputs": [
    {
     "name": "stdout",
     "output_type": "stream",
     "text": [
      "0\n",
      "1\n"
     ]
    }
   ],
   "source": [
    "for i in range(2): # equivalent to range(0,2)\n",
    "    print(i)"
   ]
  },
  {
   "cell_type": "code",
   "execution_count": 25,
   "metadata": {
    "collapsed": false,
    "slideshow": {
     "slide_type": "fragment"
    }
   },
   "outputs": [
    {
     "name": "stdout",
     "output_type": "stream",
     "text": [
      "1\n",
      "2\n",
      "3\n"
     ]
    }
   ],
   "source": [
    "a = [1,2,3]\n",
    "for value in a:\n",
    "    print(value)"
   ]
  },
  {
   "cell_type": "code",
   "execution_count": 26,
   "metadata": {
    "collapsed": false,
    "slideshow": {
     "slide_type": "fragment"
    }
   },
   "outputs": [],
   "source": [
    "i = 10\n",
    "while i > 1:\n",
    "    i /= 2   # i = i / 2"
   ]
  },
  {
   "cell_type": "markdown",
   "metadata": {
    "slideshow": {
     "slide_type": "fragment"
    }
   },
   "source": [
    "Indentation determines body of loop:"
   ]
  },
  {
   "cell_type": "code",
   "execution_count": 27,
   "metadata": {
    "collapsed": false,
    "slideshow": {
     "slide_type": "fragment"
    }
   },
   "outputs": [],
   "source": [
    "for i in range(2):\n",
    "    for j in range(2):\n",
    "        for k in range(2):\n",
    "            pass # i.e. do nothing\n",
    "        # part of j-loop"
   ]
  },
  {
   "cell_type": "markdown",
   "metadata": {
    "slideshow": {
     "slide_type": "fragment"
    }
   },
   "source": [
    "Python is not very strict on indentation:"
   ]
  },
  {
   "cell_type": "code",
   "execution_count": 28,
   "metadata": {
    "collapsed": false,
    "slideshow": {
     "slide_type": "fragment"
    }
   },
   "outputs": [],
   "source": [
    "for i in range(1):\n",
    " pass\n",
    "for i in range(1):\n",
    "                   pass\n",
    "for i in range(1):\n",
    "         pass\n",
    "\n",
    "for i in range(1):\n",
    "             for j in range(1):\n",
    "              for k in range(1):\n",
    "                                 pass"
   ]
  },
  {
   "cell_type": "markdown",
   "metadata": {
    "slideshow": {
     "slide_type": "fragment"
    }
   },
   "source": [
    "> *\"How To Write Unmaintainable Code and Ensure a job for life ;-)\"*\n",
    "https://www.thc.org/root/phun/unmaintain.html"
   ]
  },
  {
   "cell_type": "markdown",
   "metadata": {
    "slideshow": {
     "slide_type": "fragment"
    }
   },
   "source": [
    "Python style guide (https://www.python.org/dev/peps/pep-0008/) recommends using 4 spaces indentation."
   ]
  },
  {
   "cell_type": "markdown",
   "metadata": {
    "slideshow": {
     "slide_type": "subslide"
    }
   },
   "source": [
    "## 3.4 Functions\n",
    "\n",
    "Often useful to wrap code in functions to prevent having duplicate code:"
   ]
  },
  {
   "cell_type": "code",
   "execution_count": 29,
   "metadata": {
    "collapsed": false,
    "slideshow": {
     "slide_type": "fragment"
    }
   },
   "outputs": [
    {
     "data": {
      "text/plain": [
       "0.970331031603382"
      ]
     },
     "execution_count": 29,
     "metadata": {},
     "output_type": "execute_result"
    }
   ],
   "source": [
    "cp = 1004.\n",
    "Rd = 287.\n",
    "def exner(p, p0):\n",
    "    # intermediate calculations if necessary\n",
    "    return (p/p0)**(Rd/cp)\n",
    "\n",
    "exner(90000, 1e5)  "
   ]
  },
  {
   "cell_type": "markdown",
   "metadata": {
    "slideshow": {
     "slide_type": "fragment"
    }
   },
   "source": [
    "It is possible to specify default arguments:"
   ]
  },
  {
   "cell_type": "code",
   "execution_count": 30,
   "metadata": {
    "collapsed": false,
    "slideshow": {
     "slide_type": "fragment"
    }
   },
   "outputs": [
    {
     "data": {
      "text/plain": [
       "(0.970331031603382, 0.9667549928755136)"
      ]
     },
     "execution_count": 30,
     "metadata": {},
     "output_type": "execute_result"
    }
   ],
   "source": [
    "def exner(p, p0=1e5):\n",
    "    return (p/p0)**(Rd/cp)\n",
    "\n",
    "exner(90000), exner(90000,101300)"
   ]
  },
  {
   "cell_type": "markdown",
   "metadata": {
    "slideshow": {
     "slide_type": "fragment"
    }
   },
   "source": [
    "Easy to operate on arrays:"
   ]
  },
  {
   "cell_type": "code",
   "execution_count": 31,
   "metadata": {
    "collapsed": false,
    "slideshow": {
     "slide_type": "fragment"
    }
   },
   "outputs": [
    {
     "data": {
      "text/plain": [
       "array([ 0.90306759,  0.91567175,  0.92785679,  0.93965467,  0.95109368,\n",
       "        0.96219894,  0.97299292,  0.98349577,  0.99372566,  1.00369901])"
      ]
     },
     "execution_count": 31,
     "metadata": {},
     "output_type": "execute_result"
    }
   ],
   "source": [
    "import numpy as np\n",
    "\n",
    "def exner(p, p0=1e5):\n",
    "    return (p/p0)**(Rd/cp)\n",
    "\n",
    "p = np.linspace(70000, 101300, 10)\n",
    "exner(p)"
   ]
  },
  {
   "cell_type": "markdown",
   "metadata": {
    "slideshow": {
     "slide_type": "subslide"
    }
   },
   "source": [
    "## 3.5 Cleaning up\n",
    "\n",
    "No deallocation needed in Python: reference counting and garbage collecting release memory when there are no more references to it, or at the end of the execution"
   ]
  },
  {
   "cell_type": "code",
   "execution_count": 32,
   "metadata": {
    "collapsed": true,
    "slideshow": {
     "slide_type": "fragment"
    }
   },
   "outputs": [],
   "source": [
    "import numpy as np\n",
    "\n",
    "f1 = np.arange(512**3)  # 1 GB memory allocated"
   ]
  },
  {
   "cell_type": "markdown",
   "metadata": {
    "slideshow": {
     "slide_type": "fragment"
    }
   },
   "source": [
    "At end of script, or when reference to data is lost, memory is released:"
   ]
  },
  {
   "cell_type": "code",
   "execution_count": 54,
   "metadata": {
    "collapsed": true,
    "slideshow": {
     "slide_type": "fragment"
    }
   },
   "outputs": [],
   "source": [
    "f1 = None # or 'del f1': 1 GB released"
   ]
  },
  {
   "cell_type": "markdown",
   "metadata": {
    "slideshow": {
     "slide_type": "slide"
    }
   },
   "source": [
    "# 4 Code examples\n",
    "## 4.1 Input & output\n",
    "### 4.1.1 Text files\n",
    "Some dummy data to play with:"
   ]
  },
  {
   "cell_type": "code",
   "execution_count": 35,
   "metadata": {
    "collapsed": false,
    "slideshow": {
     "slide_type": "fragment"
    }
   },
   "outputs": [
    {
     "data": {
      "text/plain": [
       "(array([   0.,   20.,   40.,   60.,   80.,  100.]),\n",
       " array([  290.  ,   290.12,   290.24,   290.36,   290.48, -9999.  ]),\n",
       " array([    0.,     0.,     0.,     0., -9999.,     0.]))"
      ]
     },
     "execution_count": 35,
     "metadata": {},
     "output_type": "execute_result"
    }
   ],
   "source": [
    "import numpy as np\n",
    "\n",
    "z  = np.linspace(0,100,6)    # Height [m]\n",
    "th = 290 + 0.006*z           # Potential temperature [K]\n",
    "qt = np.zeros_like(z)        # Specific humidity [kg/kg]\n",
    "\n",
    "# Set some elements to an invalid (e.g. missing) value:\n",
    "th[-1] = -9999\n",
    "qt[-2] = -9999\n",
    "\n",
    "z, th, qt"
   ]
  },
  {
   "cell_type": "markdown",
   "metadata": {
    "slideshow": {
     "slide_type": "fragment"
    }
   },
   "source": [
    "`open()` can be used to both read from, and write to files (text and binary): "
   ]
  },
  {
   "cell_type": "code",
   "execution_count": 36,
   "metadata": {
    "collapsed": false,
    "slideshow": {
     "slide_type": "fragment"
    }
   },
   "outputs": [],
   "source": [
    "f = open('data/data.txt', 'w')  # w=write, r=read, ..\n",
    "f.write('{0:^15s} {1:^15s} {2:^15s}\\n'.format('z','theta [K]','q [kg/kg]'))\n",
    "for k in range(z.size):\n",
    "    f.write('{0:+1.8E} {1:+1.8E} {2:+1.8E}\\n'.format(z[k], th[k], qt[k]))\n",
    "f.close()"
   ]
  },
  {
   "cell_type": "code",
   "execution_count": 37,
   "metadata": {
    "collapsed": false,
    "slideshow": {
     "slide_type": "fragment"
    }
   },
   "outputs": [
    {
     "name": "stdout",
     "output_type": "stream",
     "text": [
      "       z           theta [K]       q [kg/kg]   \r\n",
      "+0.00000000E+00 +2.90000000E+02 +0.00000000E+00\r\n",
      "+2.00000000E+01 +2.90120000E+02 +0.00000000E+00\r\n",
      "+4.00000000E+01 +2.90240000E+02 +0.00000000E+00\r\n",
      "+6.00000000E+01 +2.90360000E+02 +0.00000000E+00\r\n",
      "+8.00000000E+01 +2.90480000E+02 -9.99900000E+03\r\n",
      "+1.00000000E+02 -9.99900000E+03 +0.00000000E+00\r\n"
     ]
    }
   ],
   "source": [
    "!cat data/data.txt"
   ]
  },
  {
   "cell_type": "markdown",
   "metadata": {
    "slideshow": {
     "slide_type": "fragment"
    }
   },
   "source": [
    "We can either do something similar to read it back in memory, or cheat and use Numpy:"
   ]
  },
  {
   "cell_type": "code",
   "execution_count": 38,
   "metadata": {
    "collapsed": false,
    "slideshow": {
     "slide_type": "fragment"
    }
   },
   "outputs": [
    {
     "data": {
      "text/plain": [
       "array([  290.  ,   290.12,   290.24,   290.36,   290.48, -9999.  ])"
      ]
     },
     "execution_count": 38,
     "metadata": {},
     "output_type": "execute_result"
    }
   ],
   "source": [
    "f  = np.loadtxt('data/data.txt', skiprows=1) # returns 2D array [rows, columns]\n",
    "z  = f[:,0]\n",
    "th = f[:,1]\n",
    "qt = f[:,2]\n",
    "\n",
    "th"
   ]
  },
  {
   "cell_type": "markdown",
   "metadata": {
    "slideshow": {
     "slide_type": "subslide"
    }
   },
   "source": [
    "### Intermezzo: dealing with bad/missing data\n",
    "\n",
    "Our data still has some missing values (-9999):"
   ]
  },
  {
   "cell_type": "markdown",
   "metadata": {
    "slideshow": {
     "slide_type": "fragment"
    }
   },
   "source": [
    "Numpy (`np.ma` module) has the possibility to create masked arrays, either manually:"
   ]
  },
  {
   "cell_type": "code",
   "execution_count": 39,
   "metadata": {
    "collapsed": false,
    "slideshow": {
     "slide_type": "fragment"
    }
   },
   "outputs": [
    {
     "data": {
      "text/plain": [
       "masked_array(data = [0.0 0.0 0.0 -- 0.0],\n",
       "             mask = [False False False  True False],\n",
       "       fill_value = 1e+20)"
      ]
     },
     "execution_count": 39,
     "metadata": {},
     "output_type": "execute_result"
    }
   ],
   "source": [
    "a = np.ma.zeros(5)\n",
    "a[3] = np.ma.masked\n",
    "a"
   ]
  },
  {
   "cell_type": "markdown",
   "metadata": {
    "slideshow": {
     "slide_type": "fragment"
    }
   },
   "source": [
    "Or based on existing data + masking criteria:"
   ]
  },
  {
   "cell_type": "code",
   "execution_count": 40,
   "metadata": {
    "collapsed": false,
    "slideshow": {
     "slide_type": "fragment"
    }
   },
   "outputs": [
    {
     "data": {
      "text/plain": [
       "masked_array(data = [290.0 290.12 290.24 290.36 290.48 --],\n",
       "             mask = [False False False False False  True],\n",
       "       fill_value = -9999.0)"
      ]
     },
     "execution_count": 40,
     "metadata": {},
     "output_type": "execute_result"
    }
   ],
   "source": [
    "th_m = np.ma.masked_equal(th, -9999) \n",
    "qt_m = np.ma.masked_equal(qt, -9999)\n",
    "th_m"
   ]
  },
  {
   "cell_type": "markdown",
   "metadata": {
    "slideshow": {
     "slide_type": "fragment"
    }
   },
   "source": [
    "Many similar functions available (`masked_where()`, `masked_greater()`, et cetera).\n",
    "\n",
    "Masked values are exluded from statistics, figures, etc.:"
   ]
  },
  {
   "cell_type": "code",
   "execution_count": 41,
   "metadata": {
    "collapsed": false,
    "slideshow": {
     "slide_type": "fragment"
    }
   },
   "outputs": [
    {
     "data": {
      "text/plain": [
       "(-1424.6333333333332, 290.24000000000001)"
      ]
     },
     "execution_count": 41,
     "metadata": {},
     "output_type": "execute_result"
    }
   ],
   "source": [
    "th.mean(), th_m.mean()"
   ]
  },
  {
   "cell_type": "markdown",
   "metadata": {
    "slideshow": {
     "slide_type": "fragment"
    }
   },
   "source": [
    "Masks are propagated:"
   ]
  },
  {
   "cell_type": "code",
   "execution_count": 42,
   "metadata": {
    "collapsed": false,
    "slideshow": {
     "slide_type": "fragment"
    }
   },
   "outputs": [
    {
     "data": {
      "text/plain": [
       "masked_array(data = [290.0 290.12 290.24 290.36 -- --],\n",
       "             mask = [False False False False  True  True],\n",
       "       fill_value = -9999.0)"
      ]
     },
     "execution_count": 42,
     "metadata": {},
     "output_type": "execute_result"
    }
   ],
   "source": [
    "th_m + qt_m"
   ]
  },
  {
   "cell_type": "markdown",
   "metadata": {
    "slideshow": {
     "slide_type": "subslide"
    }
   },
   "source": [
    "### 4.1.2 NetCDF\n",
    "There are several NetCDF packages available, I'll only demonstrate netCDF4\n",
    "\n",
    "Writing a NetCDF file with data, dimensions, attributes:"
   ]
  },
  {
   "cell_type": "code",
   "execution_count": 43,
   "metadata": {
    "collapsed": false,
    "slideshow": {
     "slide_type": "fragment"
    }
   },
   "outputs": [],
   "source": [
    "import netCDF4 as nc4\n",
    "\n",
    "# Create dataset, dimensions and set some global attributes:\n",
    "nc = nc4.Dataset('data/data.nc', 'w')\n",
    "nc.createDimension('z', z.size)\n",
    "nc.setncattr('source', 'AES Python workshop')\n",
    "\n",
    "# Create variables and set attributes:\n",
    "nc_z = nc.createVariable('z', 'f8', 'z')                                        \n",
    "nc_z.setncattr('units', 'm')\n",
    "nc_z.setncattr('long_name', 'height above surface')\n",
    "\n",
    "nc_th = nc.createVariable('th', 'f8', 'z', fill_value=-9999)                                        \n",
    "nc_th.setncattr('units', 'K')\n",
    "nc_th.setncattr('long_name', 'potential temperature')\n",
    "\n",
    "nc_qt = nc.createVariable('qt', 'f8', 'z', fill_value=-9999)                                        \n",
    "nc_qt.setncattr('units', 'kg kg-1')\n",
    "nc_th.setncattr('long_name', 'specific humidity')\n",
    "\n",
    "# Write data to file:\n",
    "nc_z [:] = z  \n",
    "nc_th[:] = th\n",
    "nc_qt[:] = qt\n",
    "\n",
    "nc.close()"
   ]
  },
  {
   "cell_type": "code",
   "execution_count": 44,
   "metadata": {
    "collapsed": false,
    "slideshow": {
     "slide_type": "fragment"
    }
   },
   "outputs": [
    {
     "name": "stdout",
     "output_type": "stream",
     "text": [
      "netcdf data {\r\n",
      "dimensions:\r\n",
      "\tz = 6 ;\r\n",
      "variables:\r\n",
      "\tdouble z(z) ;\r\n",
      "\t\tz:units = \"m\" ;\r\n",
      "\t\tz:long_name = \"height above surface\" ;\r\n",
      "\tdouble th(z) ;\r\n",
      "\t\tth:_FillValue = -9999. ;\r\n",
      "\t\tth:units = \"K\" ;\r\n",
      "\t\tth:long_name = \"specific humidity\" ;\r\n",
      "\tdouble qt(z) ;\r\n",
      "\t\tqt:_FillValue = -9999. ;\r\n",
      "\t\tqt:units = \"kg kg-1\" ;\r\n",
      "\r\n",
      "// global attributes:\r\n",
      "\t\t:source = \"AES Python workshop\" ;\r\n",
      "data:\r\n",
      "\r\n",
      " th = 290, 290.12, 290.24, 290.36, 290.48, _ ;\r\n",
      "}\r\n"
     ]
    }
   ],
   "source": [
    "!ncdump -v th data/data.nc"
   ]
  },
  {
   "cell_type": "markdown",
   "metadata": {
    "slideshow": {
     "slide_type": "subslide"
    }
   },
   "source": [
    "Reading a netCDF file:"
   ]
  },
  {
   "cell_type": "code",
   "execution_count": 45,
   "metadata": {
    "collapsed": false,
    "slideshow": {
     "slide_type": "fragment"
    }
   },
   "outputs": [
    {
     "data": {
      "text/plain": [
       "masked_array(data = [290.0 290.12 290.24 290.36 290.48 --],\n",
       "             mask = [False False False False False  True],\n",
       "       fill_value = -9999.0)"
      ]
     },
     "execution_count": 45,
     "metadata": {},
     "output_type": "execute_result"
    }
   ],
   "source": [
    "nc = nc4.Dataset('data/data.nc', 'r')\n",
    "z  = nc.variables['z'][:]\n",
    "th = nc.variables['th'][:]\n",
    "qt = nc.variables['qt'][:]\n",
    "\n",
    "th"
   ]
  },
  {
   "cell_type": "markdown",
   "metadata": {
    "slideshow": {
     "slide_type": "fragment"
    }
   },
   "source": [
    "`fill_value` is automatically masked"
   ]
  },
  {
   "cell_type": "markdown",
   "metadata": {
    "slideshow": {
     "slide_type": "subslide"
    }
   },
   "source": [
    "## 4.3 Object Oriented Python\n",
    "Python is object-oriented (OO) - Enough material to cover a one-week workshop, so I'll only provide a single example\n",
    "\n",
    "Idea behind OO-programming:  \n",
    "* Specify class definition (e.g. *Human: height, weight, age*)\n",
    "* Create objects / instances (e.g. *Bart: 1.84 m, 80 kg, 31 years*)"
   ]
  },
  {
   "cell_type": "markdown",
   "metadata": {
    "slideshow": {
     "slide_type": "fragment"
    }
   },
   "source": [
    "Example without OO:"
   ]
  },
  {
   "cell_type": "code",
   "execution_count": 46,
   "metadata": {
    "collapsed": true,
    "slideshow": {
     "slide_type": "fragment"
    }
   },
   "outputs": [],
   "source": [
    "import netCDF4 as nc4\n",
    "\n",
    "f1     = nc4.Dataset('data/drycblles_1.nc', 'r')\n",
    "time1  = f1.variables[\"t\"][:]\n",
    "ustar1 = f1.variables[\"ustar\"][:]\n",
    "obuk1  = f1.variables[\"obuk\"][:]\n",
    "# and 100 more variables\n",
    "\n",
    "f2     = nc4.Dataset('data/drycblles_2.nc', 'r')\n",
    "time2  = f2.variables[\"t\"][:]\n",
    "ustar2 = f2.variables[\"ustar\"][:]\n",
    "# and 101 more variables\n",
    "\n",
    "f3     = nc4.Dataset('data/drycblles_3.nc', 'r')\n",
    "time3  = f3.variables[\"t\"][:]\n",
    "# and 102 more variables"
   ]
  },
  {
   "cell_type": "markdown",
   "metadata": {
    "slideshow": {
     "slide_type": "fragment"
    }
   },
   "source": [
    "Lots of double code, every change (add/remove variable, ..) requires code change for every file.\n",
    "\n",
    "Object-oriented approach:"
   ]
  },
  {
   "cell_type": "code",
   "execution_count": 52,
   "metadata": {
    "collapsed": false,
    "slideshow": {
     "slide_type": "fragment"
    }
   },
   "outputs": [
    {
     "data": {
      "text/plain": [
       "(array([   0.,  300.,  600.,  900.]), array([   0.,  300.,  600.,  900.]))"
      ]
     },
     "execution_count": 52,
     "metadata": {},
     "output_type": "execute_result"
    }
   ],
   "source": [
    "import netCDF4 as nc4\n",
    " \n",
    "class Read_MicroHH:    # class definition\n",
    "    def __init__(self, file_name):    # constructor\n",
    "        f = nc4.Dataset(file_name, 'r')\n",
    "        \n",
    "        self.time  = f.variables[\"t\"][:]\n",
    "        self.ustar = f.variables[\"ustar\"][:]\n",
    "        self.obuk  = f.variables[\"obuk\"][:]\n",
    "        # and 100 more variables\n",
    "    \n",
    "    def post_process(self):\n",
    "        self.time_hour = self.time / 3600.\n",
    "        \n",
    "r1 = Read_MicroHH('data/drycblles_1.nc')    # instance of class\n",
    "r2 = Read_MicroHH('data/drycblles_2.nc')    # instance of class\n",
    "r3 = Read_MicroHH('data/drycblles_3.nc')    # instance of class\n",
    "\n",
    "r1.time[:4], r2.time[:4]"
   ]
  },
  {
   "cell_type": "code",
   "execution_count": 48,
   "metadata": {
    "collapsed": false,
    "slideshow": {
     "slide_type": "fragment"
    }
   },
   "outputs": [
    {
     "data": {
      "text/plain": [
       "array([ 0.        ,  0.08333333,  0.16666667,  0.25      ])"
      ]
     },
     "execution_count": 48,
     "metadata": {},
     "output_type": "execute_result"
    }
   ],
   "source": [
    "r1.post_process()\n",
    "r1.time_hour[:4]"
   ]
  },
  {
   "cell_type": "markdown",
   "metadata": {
    "slideshow": {
     "slide_type": "subslide"
    }
   },
   "source": [
    "## 4.3 Plotting \n",
    "Matplotlib (pylab): easy to make quick plots, highly customizable for quality (publication) figures. \n",
    "\n",
    "Example for plotting the TKE budget from DNS (MicroHH; www.microhh.org):"
   ]
  },
  {
   "cell_type": "code",
   "execution_count": 49,
   "metadata": {
    "collapsed": false,
    "slideshow": {
     "slide_type": "fragment"
    }
   },
   "outputs": [],
   "source": [
    "import netCDF4 as nc4\n",
    "\n",
    "visc = 1.e-5\n",
    "utau = 0.00588313697508\n",
    "norm = visc / utau**4.\n",
    "\n",
    "nc        = nc4.Dataset('data/moser600.default.mean.nc')\n",
    "zp        = nc.variables['z'][:] * utau / visc\n",
    "tke_diss  = nc.variables['tke_diss'] [:] * norm\n",
    "tke_shear = nc.variables['tke_shear'][:] * norm\n",
    "tke_turb  = nc.variables['tke_turb'] [:] * norm\n",
    "tke_visc  = nc.variables['tke_visc'] [:] * norm\n",
    "tke_pres  = nc.variables['tke_pres'] [:] * norm"
   ]
  },
  {
   "cell_type": "markdown",
   "metadata": {
    "slideshow": {
     "slide_type": "fragment"
    }
   },
   "source": [
    "Quick plot to inspect results:"
   ]
  },
  {
   "cell_type": "code",
   "execution_count": 50,
   "metadata": {
    "collapsed": false,
    "slideshow": {
     "slide_type": "fragment"
    }
   },
   "outputs": [
    {
     "data": {
      "text/plain": [
       "[<matplotlib.lines.Line2D at 0x11305dbe0>]"
      ]
     },
     "execution_count": 50,
     "metadata": {},
     "output_type": "execute_result"
    },
    {
     "data": {
      "image/png": "[encoded data removed]",
      "text/plain": [
       "<matplotlib.figure.Figure at 0x10ed0beb8>"
      ]
     },
     "metadata": {},
     "output_type": "display_data"
    }
   ],
   "source": [
    "%matplotlib inline\n",
    "import pylab as pl\n",
    "\n",
    "pl.figure()\n",
    "pl.plot(zp, tke_diss)\n",
    "pl.plot(zp, tke_shear)\n",
    "pl.plot(zp, tke_turb)\n",
    "pl.plot(zp, tke_visc)\n",
    "pl.plot(zp, tke_pres)"
   ]
  },
  {
   "cell_type": "markdown",
   "metadata": {
    "slideshow": {
     "slide_type": "fragment"
    }
   },
   "source": [
    "Publication quality figure:"
   ]
  },
  {
   "cell_type": "code",
   "execution_count": 51,
   "metadata": {
    "collapsed": false,
    "slideshow": {
     "slide_type": "fragment"
    }
   },
   "outputs": [
    {
     "data": {
      "image/png": "[encoded data removed]",
      "text/plain": [
       "<matplotlib.figure.Figure at 0x1130ac5f8>"
      ]
     },
     "metadata": {},
     "output_type": "display_data"
    }
   ],
   "source": [
    "# Override some settings from the matplotlibrc configuration file:\n",
    "from matplotlib import rc\n",
    "rc('text', usetex=True)\n",
    "rc('text.latex', preamble=r'\\usepackage{fourier}')\n",
    "rc('font', size=17)\n",
    "rc('legend', fontsize=15)\n",
    "\n",
    "fig = pl.figure(figsize=(6, 5))\n",
    "#                   L     B     R     T     ws    hs\n",
    "fig.subplots_adjust(0.16, 0.13, 0.98, 0.94, 0.40, 0.20)\n",
    "ax = pl.subplot(111)\n",
    "pl.title(r'$\\mathrm{a)~ TKE ~ budget ~ MicroHH}$', loc='left')\n",
    "pl.semilogx(zp, tke_diss,  linewidth=2, label=r'$\\epsilon$')\n",
    "pl.semilogx(zp, tke_shear, linewidth=2, label=r'$\\mathcal{S}$')\n",
    "pl.semilogx(zp, tke_turb,  linewidth=2, label=r'$\\mathcal{T}$')\n",
    "pl.semilogx(zp, tke_visc,  linewidth=2, label=r'$\\mathcal{T}_\\nu$')\n",
    "pl.semilogx(zp, tke_pres,  linewidth=2, label=r'$\\mathcal{P}$')\n",
    "pl.legend(frameon=False, loc=4, ncol=2)\n",
    "pl.xlabel(r'$z \\ u_\\tau \\ \\nu^{-1} \\ (-)$')\n",
    "pl.ylabel(r'$\\partial \\left<\\mathrm{TKE}\\right>/\\partial t$ (-)')\n",
    "pl.xlim(1, 500)\n",
    "# Remove top and right axis:\n",
    "ax.spines['right'].set_visible(False)\n",
    "ax.get_yaxis().tick_left()\n",
    "ax.spines['top'].set_visible(False)\n",
    "ax.get_xaxis().tick_bottom()\n",
    "\n",
    "pl.savefig('figures/TKE_budget.pdf')"
   ]
  },
  {
   "cell_type": "markdown",
   "metadata": {
    "slideshow": {
     "slide_type": "slide"
    }
   },
   "source": [
    "# 5 Documentation / getting help\n",
    "\n",
    "### Online resources:\n",
    "* Python: https://www.python.org/doc/\n",
    "* Numpy: http://docs.scipy.org/doc/\n",
    "* Matplotlib: http://matplotlib.org/contents.html\n",
    "\n",
    "### Ipython help function:\n",
    "Typing e.g. `np.zeros?` in IPython will give you basic documentation\n",
    "\n",
    "### Getting help:\n",
    "* Python-friends mailing list (before at ZMAW, now at LRZ)\n",
    "* Stackoverflow (478034 Python related questions)"
   ]
  }
 ],
 "metadata": {
  "celltoolbar": "Slideshow",
  "kernelspec": {
   "display_name": "Python 3",
   "language": "python",
   "name": "python3"
  },
  "language_info": {
   "codemirror_mode": {
    "name": "ipython",
    "version": 3
   },
   "file_extension": ".py",
   "mimetype": "text/x-python",
   "name": "python",
   "nbconvert_exporter": "python",
   "pygments_lexer": "ipython3",
   "version": "3.4.3"
  }
 },
 "nbformat": 4,
 "nbformat_minor": 0
}
