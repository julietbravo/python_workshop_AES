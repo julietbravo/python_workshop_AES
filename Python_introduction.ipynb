{
 "cells": [
  {
   "cell_type": "markdown",
   "metadata": {
    "slideshow": {
     "slide_type": "slide"
    }
   },
   "source": [
    "# Introduction to Python for scientific research\n",
    "*Bart van Stratum, Max Planck Institute for Meteorology, Hamburg*\n",
    "\n",
    "AES Python workshop, 7-8 October 2015, MPI-M\n",
    "\n",
    "This notebook is available at https://github.com/julietbravo/python_workshop_AES \n",
    "(http://nbviewer.ipython.org/github/julietbravo/python_workshop_AES/blob/master/Python_introduction.ipynb)"
   ]
  },
  {
   "cell_type": "markdown",
   "metadata": {
    "slideshow": {
     "slide_type": "subslide"
    }
   },
   "source": [
    "# 1 Introduction\n",
    "### The origin of Python\n",
    "\n",
    "> *\"Over six years ago, in December 1989, I was looking for a \"hobby\" programming project that would keep me occupied during the week around Christmas...”* — Guido van Rossum\n",
    "\n",
    "### Python: general-purpose, high-level programming language \n",
    "* General purpose: more than a plotting language!  \n",
    "􏰀  * One of the key languages at e.g. Google, CERN, NASA   \n",
    "* High-level: focus on code readability, short syntax  \n",
    "* Interpreted language"
   ]
  },
  {
   "cell_type": "markdown",
   "metadata": {
    "slideshow": {
     "slide_type": "subslide"
    }
   },
   "source": [
    "### Why use Python for your research?\n",
    "*(my personal opinion, and in random order)*\n",
    "\n",
    "1. Easy to learn, and read / write code\n",
    "2. It's free! (unlike Matlab, IDL, ...)\n",
    "3. Well documented (I'll get back to that), easy to get support\n",
    "4. Capable of handling your entire scientific workflow"
   ]
  },
  {
   "cell_type": "markdown",
   "metadata": {
    "slideshow": {
     "slide_type": "subslide"
    }
   },
   "source": [
    "### Python 2 vs. Python 3\n",
    "Extensive discussion at https://wiki.python.org/moin/Python2orPython3\n",
    "> Python 2.x is legacy, Python 3.x is the present and future\n",
    "\n",
    "* Python 3: released in 2008, stable and actively developed version, currently at version 3.5\n",
    "* Python 2: last release in 2010, maintained but not actively developed\n",
    "  \n",
    "Python 3 = backwards-incompatible release! Some Python 3 features backported to 2.7\n",
    "\n",
    "#### My recommendation: use Python 3"
   ]
  },
  {
   "cell_type": "markdown",
   "metadata": {
    "slideshow": {
     "slide_type": "slide"
    }
   },
   "source": [
    "# 2 Getting started with Python\n",
    "## 2.1 Install or load Python\n",
    "Python core by default installed on (almost?) all Linux distributions and OS X. Useful extensions (discussed later) available through package managers  \n",
    "\n",
    "##### On MPI systems (desktops, Thunder, Mistral): \n",
    "* `module load python` (Python 2.7)\n",
    "* `module load python3/3.4.2` (Python 3.4, not available on Mistral)\n",
    "\n",
    "##### OS X using Macports:\n",
    "* `python34 py34-ipython py34-numpy py34-matplotlib py34-netcdf4` (`py34-matplotlib-basemap`) packages\n",
    "\n",
    "##### Linux: \n",
    "* package names similar to OS X / Macports\n",
    "\n",
    "##### Windows (untested):\n",
    "* Enthought Canopy (https://www.enthought.com)  \n",
    "  * Free version available which excludes... support for plotting maps"
   ]
  },
  {
   "cell_type": "markdown",
   "metadata": {
    "slideshow": {
     "slide_type": "subslide"
    }
   },
   "source": [
    "## 2.2 Running Python code\n",
    "\n",
    "Two options:\n",
    "1. Write code in a script (.py extension), call Python interpreter (`$ python script.py`)\n",
    "2. Run code in interactive Python shell (IPython), great for development / debugging: \n",
    "  * Allows you to run scripts, interactively type code, access variables, etc.\n",
    "\n",
    "Example IPython (start from command line with `ipython`):"
   ]
  },
  {
   "cell_type": "markdown",
   "metadata": {
    "collapsed": false,
    "slideshow": {
     "slide_type": "fragment"
    }
   },
   "source": [
    "`# Script: hello_world.py`  \n",
    "`print('hello world!')`  \n",
    "`pi = 3.1415`"
   ]
  },
  {
   "cell_type": "code",
   "execution_count": 138,
   "metadata": {
    "collapsed": false,
    "slideshow": {
     "slide_type": "fragment"
    }
   },
   "outputs": [
    {
     "name": "stdout",
     "output_type": "stream",
     "text": [
      "hello world!\n"
     ]
    }
   ],
   "source": [
    "run hello_world.py"
   ]
  },
  {
   "cell_type": "markdown",
   "metadata": {
    "slideshow": {
     "slide_type": "fragment"
    }
   },
   "source": [
    "Directly access variables in Python interpreter:"
   ]
  },
  {
   "cell_type": "code",
   "execution_count": 139,
   "metadata": {
    "collapsed": false,
    "slideshow": {
     "slide_type": "fragment"
    }
   },
   "outputs": [
    {
     "data": {
      "text/plain": [
       "9.4245"
      ]
     },
     "execution_count": 139,
     "metadata": {},
     "output_type": "execute_result"
    }
   ],
   "source": [
    "3*pi"
   ]
  },
  {
   "cell_type": "markdown",
   "metadata": {
    "slideshow": {
     "slide_type": "subslide"
    }
   },
   "source": [
    "## 2.3 Python extensions\n",
    "Python standard library provides basic functionality, often useful (or necessary) to extend\n",
    "\n",
    "Useful (for us..) examples:\n",
    "1. NumPy: multi-dimensional arrays + functions to manipulate them (Chiel's talk)\n",
    "2. matplotlib: basic plots (line, scatter, contour, ..)\n",
    "3. Basemap: plotting of maps (Sebastian's talk)\n",
    "4. NetCDF4: reading / writing netCDF files"
   ]
  },
  {
   "cell_type": "markdown",
   "metadata": {
    "slideshow": {
     "slide_type": "subslide"
    }
   },
   "source": [
    "#### How to use the extensions: import statement"
   ]
  },
  {
   "cell_type": "code",
   "execution_count": 140,
   "metadata": {
    "collapsed": false,
    "slideshow": {
     "slide_type": "fragment"
    }
   },
   "outputs": [
    {
     "data": {
      "text/plain": [
       "(array([ 0.,  0.]), array([ 1.,  1.]))"
      ]
     },
     "execution_count": 140,
     "metadata": {},
     "output_type": "execute_result"
    }
   ],
   "source": [
    "import numpy # import using default name\n",
    "numpy.zeros(2), numpy.ones(2)"
   ]
  },
  {
   "cell_type": "code",
   "execution_count": 141,
   "metadata": {
    "collapsed": false,
    "slideshow": {
     "slide_type": "fragment"
    }
   },
   "outputs": [
    {
     "data": {
      "text/plain": [
       "(array([ 0.,  0.]), array([ 1.,  1.]))"
      ]
     },
     "execution_count": 141,
     "metadata": {},
     "output_type": "execute_result"
    }
   ],
   "source": [
    "import numpy as np # abbreviated name\n",
    "np.zeros(2), np.ones(2)"
   ]
  },
  {
   "cell_type": "code",
   "execution_count": 142,
   "metadata": {
    "collapsed": true,
    "slideshow": {
     "slide_type": "skip"
    }
   },
   "outputs": [],
   "source": [
    "reset -f "
   ]
  },
  {
   "cell_type": "code",
   "execution_count": 143,
   "metadata": {
    "collapsed": false,
    "slideshow": {
     "slide_type": "fragment"
    }
   },
   "outputs": [
    {
     "ename": "NameError",
     "evalue": "name 'ones' is not defined",
     "output_type": "error",
     "traceback": [
      "\u001b[0;31m---------------------------------------------------------------------------\u001b[0m",
      "\u001b[0;31mNameError\u001b[0m                                 Traceback (most recent call last)",
      "\u001b[0;32m<ipython-input-143-98883d90da77>\u001b[0m in \u001b[0;36m<module>\u001b[0;34m()\u001b[0m\n\u001b[1;32m      1\u001b[0m \u001b[0;32mfrom\u001b[0m \u001b[0mnumpy\u001b[0m \u001b[0;32mimport\u001b[0m \u001b[0mzeros\u001b[0m \u001b[0;31m# specific import\u001b[0m\u001b[0;34m\u001b[0m\u001b[0m\n\u001b[0;32m----> 2\u001b[0;31m \u001b[0mones\u001b[0m\u001b[0;34m(\u001b[0m\u001b[0;36m2\u001b[0m\u001b[0;34m)\u001b[0m \u001b[0;31m# undefined\u001b[0m\u001b[0;34m\u001b[0m\u001b[0m\n\u001b[0m",
      "\u001b[0;31mNameError\u001b[0m: name 'ones' is not defined"
     ]
    }
   ],
   "source": [
    "from numpy import zeros # specific import\n",
    "ones(2) # undefined"
   ]
  },
  {
   "cell_type": "code",
   "execution_count": 144,
   "metadata": {
    "collapsed": false,
    "slideshow": {
     "slide_type": "fragment"
    }
   },
   "outputs": [
    {
     "data": {
      "text/plain": [
       "(array([ 0.,  0.]), array([ 1.,  1.]))"
      ]
     },
     "execution_count": 144,
     "metadata": {},
     "output_type": "execute_result"
    }
   ],
   "source": [
    "from numpy import * # import everything\n",
    "zeros(2), ones(2)"
   ]
  },
  {
   "cell_type": "markdown",
   "metadata": {
    "slideshow": {
     "slide_type": "fragment"
    }
   },
   "source": [
    "`import *` can by tricky:"
   ]
  },
  {
   "cell_type": "code",
   "execution_count": 145,
   "metadata": {
    "collapsed": false,
    "slideshow": {
     "slide_type": "fragment"
    }
   },
   "outputs": [
    {
     "data": {
      "text/plain": [
       "3.141592653589793"
      ]
     },
     "execution_count": 145,
     "metadata": {},
     "output_type": "execute_result"
    }
   ],
   "source": [
    "pi = 0\n",
    "from numpy import * # contains definition of pi\n",
    "pi"
   ]
  },
  {
   "cell_type": "code",
   "execution_count": 146,
   "metadata": {
    "collapsed": true,
    "slideshow": {
     "slide_type": "skip"
    }
   },
   "outputs": [],
   "source": [
    "reset -f "
   ]
  },
  {
   "cell_type": "markdown",
   "metadata": {
    "slideshow": {
     "slide_type": "slide"
    }
   },
   "source": [
    "## 2.4 Python basics\n",
    "### 2.4.1 Variables\n",
    "\n",
    "Python uses *duck typing*:\n",
    "> *\"If a bird looks like a duck, swims like a duck, and quacks like a duck, then it probably is a duck.\"*"
   ]
  },
  {
   "cell_type": "code",
   "execution_count": 147,
   "metadata": {
    "collapsed": false,
    "slideshow": {
     "slide_type": "fragment"
    }
   },
   "outputs": [
    {
     "data": {
      "text/plain": [
       "(int, float, str)"
      ]
     },
     "execution_count": 147,
     "metadata": {},
     "output_type": "execute_result"
    }
   ],
   "source": [
    "var_1 = 1\n",
    "var_2 = 1.\n",
    "var_3 = \"1\"\n",
    "\n",
    "type(var_1), type(var_2), type(var_3)"
   ]
  },
  {
   "cell_type": "markdown",
   "metadata": {
    "slideshow": {
     "slide_type": "fragment"
    }
   },
   "source": [
    "Explicit casting:"
   ]
  },
  {
   "cell_type": "code",
   "execution_count": 148,
   "metadata": {
    "collapsed": false,
    "slideshow": {
     "slide_type": "fragment"
    }
   },
   "outputs": [
    {
     "data": {
      "text/plain": [
       "(float, int, float)"
      ]
     },
     "execution_count": 148,
     "metadata": {},
     "output_type": "execute_result"
    }
   ],
   "source": [
    "var_1 = float(1)\n",
    "var_2 = int(1.)\n",
    "var_3 = float(\"1\")\n",
    "\n",
    "type(var_1), type(var_2), type(var_3)"
   ]
  },
  {
   "cell_type": "markdown",
   "metadata": {
    "slideshow": {
     "slide_type": "subslide"
    }
   },
   "source": [
    "### Strings"
   ]
  },
  {
   "cell_type": "code",
   "execution_count": 149,
   "metadata": {
    "collapsed": true,
    "slideshow": {
     "slide_type": "fragment"
    }
   },
   "outputs": [],
   "source": [
    "s1 = 'Im a string!'\n",
    "s2 = \"me too!\""
   ]
  },
  {
   "cell_type": "markdown",
   "metadata": {
    "slideshow": {
     "slide_type": "fragment"
    }
   },
   "source": [
    "String formating from data/variables:"
   ]
  },
  {
   "cell_type": "code",
   "execution_count": 150,
   "metadata": {
    "collapsed": false,
    "slideshow": {
     "slide_type": "fragment"
    }
   },
   "outputs": [
    {
     "data": {
      "text/plain": [
       "('pi =   3.1416', 'pi =   3.1416')"
      ]
     },
     "execution_count": 150,
     "metadata": {},
     "output_type": "execute_result"
    }
   ],
   "source": [
    "import numpy as np\n",
    "\n",
    "a = 'pi = %8.4f'%np.pi               # Old style\n",
    "b = 'pi = {0:8.4f}'.format(np.pi)    # New style\n",
    "a,b"
   ]
  },
  {
   "cell_type": "code",
   "execution_count": 151,
   "metadata": {
    "collapsed": false,
    "slideshow": {
     "slide_type": "fragment"
    }
   },
   "outputs": [
    {
     "data": {
      "text/plain": [
       "('3.141592653589793',\n",
       " '3.141592653589793 2.718281828459045',\n",
       " '2.718281828459045 3.141592653589793',\n",
       " '  3.14',\n",
       " '3.14  ')"
      ]
     },
     "execution_count": 151,
     "metadata": {},
     "output_type": "execute_result"
    }
   ],
   "source": [
    "a = '{}'.format(np.pi)               # minimal\n",
    "b = '{} {}'.format(np.pi, np.e)      # multiple numbers\n",
    "c = '{1} {0}'.format(np.pi, np.e)    # indicate order\n",
    "d = '{0:6.2f}'.format(np.pi)         # specify width / decimals\n",
    "e = '{0:<6.2f}'.format(np.pi)        # alignment\n",
    "\n",
    "a, b, c, d, e"
   ]
  },
  {
   "cell_type": "markdown",
   "metadata": {
    "slideshow": {
     "slide_type": "fragment"
    }
   },
   "source": [
    "(Nearly) infinite number of possibilities, see e.g. https://pyformat.info for examples "
   ]
  },
  {
   "cell_type": "markdown",
   "metadata": {
    "slideshow": {
     "slide_type": "subslide"
    }
   },
   "source": [
    "### 2.4.2 Data structures\n",
    "\n",
    "#### 2.4.2.1 Lists: constructor [a,b,c]"
   ]
  },
  {
   "cell_type": "code",
   "execution_count": 152,
   "metadata": {
    "collapsed": false,
    "slideshow": {
     "slide_type": "fragment"
    }
   },
   "outputs": [],
   "source": [
    "time = [0,1,2,3,4,5,6,7,8,9]"
   ]
  },
  {
   "cell_type": "markdown",
   "metadata": {
    "slideshow": {
     "slide_type": "fragment"
    }
   },
   "source": [
    "Values accesible based on index or slice:  "
   ]
  },
  {
   "cell_type": "code",
   "execution_count": 153,
   "metadata": {
    "collapsed": false,
    "slideshow": {
     "slide_type": "fragment"
    }
   },
   "outputs": [
    {
     "data": {
      "text/plain": [
       "(0, [1, 2, 3], [0, 2, 4])"
      ]
     },
     "execution_count": 153,
     "metadata": {},
     "output_type": "execute_result"
    }
   ],
   "source": [
    "time[0], time[1:4], time[0:6:2]"
   ]
  },
  {
   "cell_type": "markdown",
   "metadata": {
    "slideshow": {
     "slide_type": "fragment"
    }
   },
   "source": [
    "*Note that indexing starts at zero, slicing exludes last element*\n",
    "\n",
    "Lists sizes can directly be changed:"
   ]
  },
  {
   "cell_type": "code",
   "execution_count": 154,
   "metadata": {
    "collapsed": false,
    "slideshow": {
     "slide_type": "fragment"
    }
   },
   "outputs": [
    {
     "data": {
      "text/plain": [
       "[1, 2, 3, 4, 5, 7, 8, 9, 10]"
      ]
     },
     "execution_count": 154,
     "metadata": {},
     "output_type": "execute_result"
    }
   ],
   "source": [
    "time.append(10) # Append a value\n",
    "time.remove(0)  # Remove first occurance of value\n",
    "time.pop(5)     # Remove an element\n",
    "time"
   ]
  },
  {
   "cell_type": "markdown",
   "metadata": {
    "slideshow": {
     "slide_type": "subslide"
    }
   },
   "source": [
    "#### 2.4.2.2 Tuples: constructor (a,b,c) \n",
    "Like a list, but not mutable"
   ]
  },
  {
   "cell_type": "code",
   "execution_count": 155,
   "metadata": {
    "collapsed": false,
    "slideshow": {
     "slide_type": "fragment"
    }
   },
   "outputs": [
    {
     "data": {
      "text/plain": [
       "('hamburg', 'cabauw', 'karlsruhe')"
      ]
     },
     "execution_count": 155,
     "metadata": {},
     "output_type": "execute_result"
    }
   ],
   "source": [
    "stations = ('hamburg','cabauw','karlsruhe')\n",
    "stations"
   ]
  },
  {
   "cell_type": "markdown",
   "metadata": {
    "slideshow": {
     "slide_type": "fragment"
    }
   },
   "source": [
    "After defining them, unable to change, append or remove items"
   ]
  },
  {
   "cell_type": "markdown",
   "metadata": {
    "slideshow": {
     "slide_type": "subslide"
    }
   },
   "source": [
    "#### 2.4.2.3 Dictionaries: constructor {'a':0, 'b':1}\n",
    "Combination of keys and values, values accesible by keys:"
   ]
  },
  {
   "cell_type": "code",
   "execution_count": 156,
   "metadata": {
    "collapsed": false,
    "slideshow": {
     "slide_type": "fragment"
    }
   },
   "outputs": [
    {
     "data": {
      "text/plain": [
       "(290, -2)"
      ]
     },
     "execution_count": 156,
     "metadata": {},
     "output_type": "execute_result"
    }
   ],
   "source": [
    "data = {'T': 290, 'q': 10e-3, 'u': -2}\n",
    "data['T'], data['u']"
   ]
  },
  {
   "cell_type": "markdown",
   "metadata": {
    "slideshow": {
     "slide_type": "fragment"
    }
   },
   "source": [
    "Are mutable:"
   ]
  },
  {
   "cell_type": "code",
   "execution_count": 157,
   "metadata": {
    "collapsed": false,
    "slideshow": {
     "slide_type": "fragment"
    }
   },
   "outputs": [
    {
     "data": {
      "text/plain": [
       "{'T': 300, 'q': 0.01, 'v': 3}"
      ]
     },
     "execution_count": 157,
     "metadata": {},
     "output_type": "execute_result"
    }
   ],
   "source": [
    "data['T'] = 300  # Change element\n",
    "data['v'] = 3    # Add element\n",
    "data.pop('u')    # Remove element (or del data['u'])\n",
    "data"
   ]
  },
  {
   "cell_type": "markdown",
   "metadata": {
    "slideshow": {
     "slide_type": "subslide"
    }
   },
   "source": [
    "#### 2.4.2.4 Numpy arrays"
   ]
  },
  {
   "cell_type": "code",
   "execution_count": 158,
   "metadata": {
    "collapsed": false,
    "slideshow": {
     "slide_type": "fragment"
    }
   },
   "outputs": [],
   "source": [
    "import numpy as np\n",
    "a1 = np.zeros(4)  # Array initialized with zeros\n",
    "a2 = np.ones(4)   #   \"         \"      \"   ones\n",
    "a3 = np.empty(4)  # Uninitialized array"
   ]
  },
  {
   "cell_type": "markdown",
   "metadata": {
    "slideshow": {
     "slide_type": "fragment"
    }
   },
   "source": [
    "Multi-dimensional arrays:"
   ]
  },
  {
   "cell_type": "code",
   "execution_count": 159,
   "metadata": {
    "collapsed": false,
    "slideshow": {
     "slide_type": "fragment"
    }
   },
   "outputs": [],
   "source": [
    "a4 = np.zeros((2,2,2))\n",
    "a5 = np.zeros((2,2,2), dtype=np.int)"
   ]
  },
  {
   "cell_type": "markdown",
   "metadata": {
    "slideshow": {
     "slide_type": "fragment"
    }
   },
   "source": [
    "More information on Numpy arrays and how to efficiently use them in Chiel's talk"
   ]
  },
  {
   "cell_type": "markdown",
   "metadata": {
    "slideshow": {
     "slide_type": "subslide"
    }
   },
   "source": [
    "### 2.4.3 Objects\n",
    "Python is object-oriented (OO); enough material to cover a one-week workshop, so I'll only provide a single useful example\n",
    "\n",
    "Example: reading in multiple files"
   ]
  },
  {
   "cell_type": "code",
   "execution_count": 160,
   "metadata": {
    "collapsed": false,
    "slideshow": {
     "slide_type": "fragment"
    }
   },
   "outputs": [],
   "source": [
    "import netCDF4 as nc4\n",
    "\n",
    "f1     = nc4.Dataset('data/drycblles_1.nc', 'r')\n",
    "time1  = f1.variables[\"t\"][:]\n",
    "ustar1 = f1.variables[\"ustar\"][:]\n",
    "obuk1  = f1.variables[\"obuk\"][:]\n",
    "# and ~60 more variables\n",
    "\n",
    "f2     = nc4.Dataset('data/drycblles_2.nc', 'r')\n",
    "time2  = f2.variables[\"t\"][:]\n",
    "ustar2 = f2.variables[\"ustar\"][:]\n",
    "# etc.\n",
    "\n",
    "f3     = nc4.Dataset('data/drycblles_3.nc', 'r')\n",
    "time3  = f3.variables[\"t\"][:]\n",
    "# etc."
   ]
  },
  {
   "cell_type": "markdown",
   "metadata": {
    "slideshow": {
     "slide_type": "fragment"
    }
   },
   "source": [
    "Lots of double code, every change (add/remove variable, ..) requires code change for every file"
   ]
  },
  {
   "cell_type": "markdown",
   "metadata": {
    "slideshow": {
     "slide_type": "subslide"
    }
   },
   "source": [
    "#### Object oriented approach:"
   ]
  },
  {
   "cell_type": "code",
   "execution_count": 161,
   "metadata": {
    "collapsed": false,
    "slideshow": {
     "slide_type": "fragment"
    }
   },
   "outputs": [
    {
     "data": {
      "text/plain": [
       "array([    0.,   300.,   600.,   900.,  1200.,  1500.,  1800.,  2100.,\n",
       "        2400.,  2700.,  3000.,  3300.,  3600.,  3900.,  4200.,  4500.,\n",
       "        4800.,  5100.])"
      ]
     },
     "execution_count": 161,
     "metadata": {},
     "output_type": "execute_result"
    }
   ],
   "source": [
    "import netCDF4 as nc4\n",
    " \n",
    "class read_nc:    # class definition\n",
    "    def __init__(self, file_name):    # constructor\n",
    "        f = nc4.Dataset(file_name, 'r')\n",
    "        \n",
    "        self.time  = f.variables[\"t\"][:]\n",
    "        self.ustar = f.variables[\"ustar\"][:]\n",
    "        self.obuk  = f.variables[\"obuk\"][:]\n",
    "        # and 100 more variables\n",
    "    \n",
    "    def post_process(self):\n",
    "        self.time_hour = self.time / 3600.\n",
    "        \n",
    "r1 = read_nc('data/drycblles_1.nc')    # instance of class\n",
    "r2 = read_nc('data/drycblles_2.nc')    # instance of class\n",
    "r3 = read_nc('data/drycblles_3.nc')    # ...\n",
    "\n",
    "r1.time"
   ]
  },
  {
   "cell_type": "code",
   "execution_count": 162,
   "metadata": {
    "collapsed": false,
    "slideshow": {
     "slide_type": "fragment"
    }
   },
   "outputs": [
    {
     "data": {
      "text/plain": [
       "array([ 0.        ,  0.08333333,  0.16666667,  0.25      ])"
      ]
     },
     "execution_count": 162,
     "metadata": {},
     "output_type": "execute_result"
    }
   ],
   "source": [
    "r1.post_process()\n",
    "r1.time_hour[:4]"
   ]
  },
  {
   "cell_type": "markdown",
   "metadata": {
    "slideshow": {
     "slide_type": "subslide"
    }
   },
   "source": [
    "### 2.4.4 Loops\n",
    "\n",
    "Two options: `for:` and `while:`"
   ]
  },
  {
   "cell_type": "code",
   "execution_count": 163,
   "metadata": {
    "collapsed": false,
    "slideshow": {
     "slide_type": "fragment"
    }
   },
   "outputs": [
    {
     "name": "stdout",
     "output_type": "stream",
     "text": [
      "0\n",
      "1\n"
     ]
    }
   ],
   "source": [
    "for i in range(2): # equivalent to range(0,2)\n",
    "    print(i)"
   ]
  },
  {
   "cell_type": "code",
   "execution_count": 164,
   "metadata": {
    "collapsed": false,
    "slideshow": {
     "slide_type": "fragment"
    }
   },
   "outputs": [],
   "source": [
    "i = 10\n",
    "while i > 1:\n",
    "    i /= 2   # i = i / 2"
   ]
  },
  {
   "cell_type": "markdown",
   "metadata": {
    "slideshow": {
     "slide_type": "fragment"
    }
   },
   "source": [
    "Indentation determines body of loop:"
   ]
  },
  {
   "cell_type": "code",
   "execution_count": 165,
   "metadata": {
    "collapsed": false,
    "slideshow": {
     "slide_type": "fragment"
    }
   },
   "outputs": [],
   "source": [
    "for i in range(2):\n",
    "    for j in range(2):\n",
    "        for k in range(2):\n",
    "            pass # i.e. do nothing\n",
    "        # part of j-loop"
   ]
  },
  {
   "cell_type": "markdown",
   "metadata": {
    "slideshow": {
     "slide_type": "fragment"
    }
   },
   "source": [
    "Python is not very strict on indentation:"
   ]
  },
  {
   "cell_type": "code",
   "execution_count": 166,
   "metadata": {
    "collapsed": false,
    "slideshow": {
     "slide_type": "fragment"
    }
   },
   "outputs": [],
   "source": [
    "for i in range(1):\n",
    " pass\n",
    "for i in range(1):\n",
    "                   pass\n",
    "for i in range(1):\n",
    "         pass\n",
    "\n",
    "for i in range(1):\n",
    "             for j in range(1):\n",
    "              for k in range(1):\n",
    "                                 pass"
   ]
  },
  {
   "cell_type": "markdown",
   "metadata": {
    "slideshow": {
     "slide_type": "fragment"
    }
   },
   "source": [
    "> *\"How To Write Unmaintainable Code and Ensure a job for life ;-)\"*\n",
    "https://www.thc.org/root/phun/unmaintain.html"
   ]
  },
  {
   "cell_type": "markdown",
   "metadata": {
    "slideshow": {
     "slide_type": "subslide"
    }
   },
   "source": [
    "### 2.4.4 Functions"
   ]
  },
  {
   "cell_type": "code",
   "execution_count": 167,
   "metadata": {
    "collapsed": false,
    "slideshow": {
     "slide_type": "fragment"
    }
   },
   "outputs": [
    {
     "data": {
      "text/plain": [
       "0.970331031603382"
      ]
     },
     "execution_count": 167,
     "metadata": {},
     "output_type": "execute_result"
    }
   ],
   "source": [
    "cp = 1004.\n",
    "Rd = 287.\n",
    "def exner(p, p0):\n",
    "    return (p/p0)**(Rd/cp)\n",
    "\n",
    "exner(90000, 1e5)  "
   ]
  },
  {
   "cell_type": "markdown",
   "metadata": {
    "slideshow": {
     "slide_type": "fragment"
    }
   },
   "source": [
    "Default arguments are possible:"
   ]
  },
  {
   "cell_type": "code",
   "execution_count": 168,
   "metadata": {
    "collapsed": false,
    "slideshow": {
     "slide_type": "fragment"
    }
   },
   "outputs": [
    {
     "data": {
      "text/plain": [
       "(0.970331031603382, 0.9667549928755136)"
      ]
     },
     "execution_count": 168,
     "metadata": {},
     "output_type": "execute_result"
    }
   ],
   "source": [
    "def exner(p, p0=1e5):\n",
    "    return (p/p0)**(Rd/cp)\n",
    "\n",
    "exner(90000), exner(90000,101300)"
   ]
  },
  {
   "cell_type": "markdown",
   "metadata": {
    "slideshow": {
     "slide_type": "fragment"
    }
   },
   "source": [
    "Easy to operate on arrays:"
   ]
  },
  {
   "cell_type": "code",
   "execution_count": 169,
   "metadata": {
    "collapsed": false,
    "slideshow": {
     "slide_type": "fragment"
    }
   },
   "outputs": [
    {
     "data": {
      "text/plain": [
       "array([ 0.90306759,  0.91567175,  0.92785679,  0.93965467,  0.95109368,\n",
       "        0.96219894,  0.97299292,  0.98349577,  0.99372566,  1.00369901])"
      ]
     },
     "execution_count": 169,
     "metadata": {},
     "output_type": "execute_result"
    }
   ],
   "source": [
    "import numpy as np\n",
    "\n",
    "def exner(p, p0=1e5):\n",
    "    return (p/p0)**(Rd/cp)\n",
    "\n",
    "p = np.linspace(70000, 101300, 10)\n",
    "exner(p)"
   ]
  },
  {
   "cell_type": "markdown",
   "metadata": {
    "slideshow": {
     "slide_type": "subslide"
    }
   },
   "source": [
    "### 2.4.5 Cleaning up\n",
    "\n",
    "No deallocation needed in Python (Garbage collector):"
   ]
  },
  {
   "cell_type": "code",
   "execution_count": 63,
   "metadata": {
    "collapsed": true,
    "slideshow": {
     "slide_type": "fragment"
    }
   },
   "outputs": [],
   "source": [
    "import numpy as np\n",
    "\n",
    "f1 = np.arange(512**3)  # 1 GB memory allocated"
   ]
  },
  {
   "cell_type": "markdown",
   "metadata": {
    "slideshow": {
     "slide_type": "fragment"
    }
   },
   "source": [
    "At end of script, or when reference to data is lost, memory is released:"
   ]
  },
  {
   "cell_type": "code",
   "execution_count": 66,
   "metadata": {
    "collapsed": true,
    "slideshow": {
     "slide_type": "fragment"
    }
   },
   "outputs": [],
   "source": [
    "f1 = None               # 1 GB released"
   ]
  },
  {
   "cell_type": "markdown",
   "metadata": {
    "slideshow": {
     "slide_type": "fragment"
    }
   },
   "source": [
    "Explicit de-allocation possible:"
   ]
  },
  {
   "cell_type": "code",
   "execution_count": 65,
   "metadata": {
    "collapsed": false,
    "slideshow": {
     "slide_type": "fragment"
    }
   },
   "outputs": [],
   "source": [
    "f1 = np.arange(512**3)  # 1 GB memory allocated\n",
    "del f1                  # 1 GB released"
   ]
  },
  {
   "cell_type": "markdown",
   "metadata": {
    "slideshow": {
     "slide_type": "slide"
    }
   },
   "source": [
    "# 2 Code examples\n",
    "## 2.1 Input & output\n",
    "### 2.1.1 Text files"
   ]
  },
  {
   "cell_type": "code",
   "execution_count": 172,
   "metadata": {
    "collapsed": false,
    "slideshow": {
     "slide_type": "fragment"
    }
   },
   "outputs": [
    {
     "data": {
      "text/plain": [
       "(array([   0.,   20.,   40.,   60.,   80.,  100.]),\n",
       " array([  290.  ,   290.12,   290.24,   290.36,   290.48, -9999.  ]),\n",
       " array([    0.,     0.,     0.,     0., -9999.,     0.]))"
      ]
     },
     "execution_count": 172,
     "metadata": {},
     "output_type": "execute_result"
    }
   ],
   "source": [
    "import numpy as np\n",
    "\n",
    "z  = np.linspace(0,100,6)    # Height [m]\n",
    "th = 290 + 0.006*z           # Potential temperature [K]\n",
    "qt = np.zeros_like(z)        # Specific humidity [kg/kg]\n",
    "\n",
    "th[-1] = -9999               # Missing data\n",
    "qt[-2] = -9999               # Missing data\n",
    "\n",
    "z, th, qt"
   ]
  },
  {
   "cell_type": "markdown",
   "metadata": {
    "slideshow": {
     "slide_type": "subslide"
    }
   },
   "source": [
    "Write data to text file:"
   ]
  },
  {
   "cell_type": "code",
   "execution_count": 173,
   "metadata": {
    "collapsed": false,
    "slideshow": {
     "slide_type": "fragment"
    }
   },
   "outputs": [],
   "source": [
    "f = open('data/data.txt', 'w')  # w=write, r=read, ..\n",
    "f.write('{0:^15s} {1:^15s} {2:^15s}\\n'.format('z','theta [K]','q [kg/kg]'))\n",
    "for k in range(z.size):\n",
    "    f.write('{0:+1.8E} {1:+1.8E} {2:+1.8E}\\n'.format(z[k], th[k], qt[k]))\n",
    "f.close()"
   ]
  },
  {
   "cell_type": "code",
   "execution_count": 174,
   "metadata": {
    "collapsed": false,
    "slideshow": {
     "slide_type": "fragment"
    }
   },
   "outputs": [
    {
     "name": "stdout",
     "output_type": "stream",
     "text": [
      "       z           theta [K]       q [kg/kg]   \r\n",
      "+0.00000000E+00 +2.90000000E+02 +0.00000000E+00\r\n",
      "+2.00000000E+01 +2.90120000E+02 +0.00000000E+00\r\n",
      "+4.00000000E+01 +2.90240000E+02 +0.00000000E+00\r\n",
      "+6.00000000E+01 +2.90360000E+02 +0.00000000E+00\r\n",
      "+8.00000000E+01 +2.90480000E+02 -9.99900000E+03\r\n",
      "+1.00000000E+02 -9.99900000E+03 +0.00000000E+00\r\n"
     ]
    }
   ],
   "source": [
    "!cat data/data.txt"
   ]
  },
  {
   "cell_type": "markdown",
   "metadata": {
    "slideshow": {
     "slide_type": "subslide"
    }
   },
   "source": [
    "Reading the same data:"
   ]
  },
  {
   "cell_type": "code",
   "execution_count": 175,
   "metadata": {
    "collapsed": false,
    "slideshow": {
     "slide_type": "fragment"
    }
   },
   "outputs": [
    {
     "data": {
      "text/plain": [
       "290.12"
      ]
     },
     "execution_count": 175,
     "metadata": {},
     "output_type": "execute_result"
    }
   ],
   "source": [
    "f  = np.loadtxt('data/data.txt', skiprows=1) # returns 2D array [rows, columns]\n",
    "z  = f[:,0]\n",
    "th = f[:,1]\n",
    "qt = f[:,2]\n",
    "\n",
    "z,th,qt\n",
    "th[1]"
   ]
  },
  {
   "cell_type": "markdown",
   "metadata": {
    "slideshow": {
     "slide_type": "subslide"
    }
   },
   "source": [
    "### 2.1.-1 Intermezzo: dealing with bad/missing data\n",
    "\n",
    "Our data has some missing values (-9999)"
   ]
  },
  {
   "cell_type": "code",
   "execution_count": 176,
   "metadata": {
    "collapsed": false,
    "slideshow": {
     "slide_type": "fragment"
    }
   },
   "outputs": [
    {
     "data": {
      "text/plain": [
       "(array([  290.  ,   290.12,   290.24,   290.36,   290.48, -9999.  ]),\n",
       " array([    0.,     0.,     0.,     0., -9999.,     0.]))"
      ]
     },
     "execution_count": 176,
     "metadata": {},
     "output_type": "execute_result"
    }
   ],
   "source": [
    "th, qt"
   ]
  },
  {
   "cell_type": "markdown",
   "metadata": {
    "slideshow": {
     "slide_type": "fragment"
    }
   },
   "source": [
    "Numpy has the possibility to mask arrays, either manually:"
   ]
  },
  {
   "cell_type": "code",
   "execution_count": 177,
   "metadata": {
    "collapsed": false,
    "slideshow": {
     "slide_type": "fragment"
    }
   },
   "outputs": [
    {
     "data": {
      "text/plain": [
       "masked_array(data = [0.0 0.0 0.0 -- 0.0],\n",
       "             mask = [False False False  True False],\n",
       "       fill_value = 1e+20)"
      ]
     },
     "execution_count": 177,
     "metadata": {},
     "output_type": "execute_result"
    }
   ],
   "source": [
    "a = np.ma.zeros(5)\n",
    "a[3] = np.ma.masked\n",
    "a"
   ]
  },
  {
   "cell_type": "markdown",
   "metadata": {
    "slideshow": {
     "slide_type": "fragment"
    }
   },
   "source": [
    "Or based on existing data + criteria:"
   ]
  },
  {
   "cell_type": "code",
   "execution_count": 178,
   "metadata": {
    "collapsed": false,
    "slideshow": {
     "slide_type": "fragment"
    }
   },
   "outputs": [
    {
     "data": {
      "text/plain": [
       "masked_array(data = [290.0 290.12 290.24 290.36 290.48 --],\n",
       "             mask = [False False False False False  True],\n",
       "       fill_value = 1e+20)"
      ]
     },
     "execution_count": 178,
     "metadata": {},
     "output_type": "execute_result"
    }
   ],
   "source": [
    "th_m = np.ma.masked_where(th == -9999, th) \n",
    "qt_m = np.ma.masked_where(qt == -9999, qt)\n",
    "th_m"
   ]
  },
  {
   "cell_type": "markdown",
   "metadata": {
    "slideshow": {
     "slide_type": "fragment"
    }
   },
   "source": [
    "Masked values are exluded from statistics, plots, etc.:"
   ]
  },
  {
   "cell_type": "code",
   "execution_count": 179,
   "metadata": {
    "collapsed": false,
    "slideshow": {
     "slide_type": "fragment"
    }
   },
   "outputs": [
    {
     "data": {
      "text/plain": [
       "(-1424.6333333333332, 290.24000000000001)"
      ]
     },
     "execution_count": 179,
     "metadata": {},
     "output_type": "execute_result"
    }
   ],
   "source": [
    "th.mean(), th_m.mean()"
   ]
  },
  {
   "cell_type": "markdown",
   "metadata": {
    "slideshow": {
     "slide_type": "fragment"
    }
   },
   "source": [
    "Masks are propagated:"
   ]
  },
  {
   "cell_type": "code",
   "execution_count": 180,
   "metadata": {
    "collapsed": false,
    "slideshow": {
     "slide_type": "fragment"
    }
   },
   "outputs": [
    {
     "data": {
      "text/plain": [
       "masked_array(data = [290.0 290.12 290.24 290.36 -- --],\n",
       "             mask = [False False False False  True  True],\n",
       "       fill_value = 1e+20)"
      ]
     },
     "execution_count": 180,
     "metadata": {},
     "output_type": "execute_result"
    }
   ],
   "source": [
    "th_m + qt_m"
   ]
  },
  {
   "cell_type": "markdown",
   "metadata": {
    "slideshow": {
     "slide_type": "subslide"
    }
   },
   "source": [
    "### 2.1.2 NetCDF\n",
    "Writing a NetCDF file, with dimensions, attributes, ...:"
   ]
  },
  {
   "cell_type": "code",
   "execution_count": 181,
   "metadata": {
    "collapsed": false,
    "slideshow": {
     "slide_type": "fragment"
    }
   },
   "outputs": [],
   "source": [
    "import netCDF4 as nc4\n",
    "\n",
    "nc = nc4.Dataset('data/data.nc', 'w')                       # Create new dataset\n",
    "nc.createDimension('z', z.size)                             # Create dimension\n",
    "nc.setncattr('source', 'AES Python workshop')               # Set global attributes\n",
    "\n",
    "# Create variables and set attributes:\n",
    "nc_z = nc.createVariable('z', 'f8', 'z')                                        \n",
    "nc_z.setncattr('units', 'm')\n",
    "nc_z.setncattr('long_name', 'height above surface')\n",
    "\n",
    "nc_th = nc.createVariable('th', 'f8', 'z', fill_value=-9999)                                        \n",
    "nc_th.setncattr('units', 'K')\n",
    "nc_th.setncattr('long_name', 'potential temperature')\n",
    "\n",
    "nc_qt = nc.createVariable('qt', 'f8', 'z', fill_value=-9999)                                        \n",
    "nc_qt.setncattr('units', 'kg kg-1')\n",
    "nc_th.setncattr('long_name', 'specific humidity')\n",
    "\n",
    "# Write data to file:\n",
    "nc_z [:] = z  \n",
    "nc_th[:] = th\n",
    "nc_qt[:] = qt\n",
    "\n",
    "nc.close()"
   ]
  },
  {
   "cell_type": "code",
   "execution_count": 182,
   "metadata": {
    "collapsed": false,
    "slideshow": {
     "slide_type": "fragment"
    }
   },
   "outputs": [
    {
     "name": "stdout",
     "output_type": "stream",
     "text": [
      "netcdf data {\r\n",
      "dimensions:\r\n",
      "\tz = 6 ;\r\n",
      "variables:\r\n",
      "\tdouble z(z) ;\r\n",
      "\t\tz:units = \"m\" ;\r\n",
      "\t\tz:long_name = \"height above surface\" ;\r\n",
      "\tdouble th(z) ;\r\n",
      "\t\tth:_FillValue = -9999. ;\r\n",
      "\t\tth:units = \"K\" ;\r\n",
      "\t\tth:long_name = \"specific humidity\" ;\r\n",
      "\tdouble qt(z) ;\r\n",
      "\t\tqt:_FillValue = -9999. ;\r\n",
      "\t\tqt:units = \"kg kg-1\" ;\r\n",
      "\r\n",
      "// global attributes:\r\n",
      "\t\t:source = \"AES Python workshop\" ;\r\n",
      "data:\r\n",
      "\r\n",
      " th = 290, 290.12, 290.24, 290.36, 290.48, _ ;\r\n",
      "}\r\n"
     ]
    }
   ],
   "source": [
    "!ncdump -v th data/data.nc"
   ]
  },
  {
   "cell_type": "markdown",
   "metadata": {
    "slideshow": {
     "slide_type": "subslide"
    }
   },
   "source": [
    "Reading a netCDF file:"
   ]
  },
  {
   "cell_type": "code",
   "execution_count": 183,
   "metadata": {
    "collapsed": false,
    "slideshow": {
     "slide_type": "fragment"
    }
   },
   "outputs": [
    {
     "data": {
      "text/plain": [
       "masked_array(data = [290.0 290.12 290.24 290.36 290.48 --],\n",
       "             mask = [False False False False False  True],\n",
       "       fill_value = -9999.0)"
      ]
     },
     "execution_count": 183,
     "metadata": {},
     "output_type": "execute_result"
    }
   ],
   "source": [
    "nc = nc4.Dataset('data/data.nc', 'r')\n",
    "z  = nc.variables['z'][:]\n",
    "th = nc.variables['th'][:]\n",
    "qt = nc.variables['qt'][:]\n",
    "\n",
    "th"
   ]
  },
  {
   "cell_type": "markdown",
   "metadata": {
    "slideshow": {
     "slide_type": "fragment"
    }
   },
   "source": [
    "`fill_value` is automatically masked"
   ]
  },
  {
   "cell_type": "markdown",
   "metadata": {
    "slideshow": {
     "slide_type": "subslide"
    }
   },
   "source": [
    "## 2.2 Plotting \n",
    "Matplotlib (pylab): easy to make quick plots, highly customizable for quality (publication) figures \n",
    "\n"
   ]
  },
  {
   "cell_type": "code",
   "execution_count": 54,
   "metadata": {
    "collapsed": false,
    "slideshow": {
     "slide_type": "fragment"
    }
   },
   "outputs": [],
   "source": [
    "%matplotlib inline\n",
    "import pylab as pl\n",
    "import netCDF4 as nc4\n",
    "\n",
    "visc = 1.e-5\n",
    "utau = 0.00588313697508\n",
    "norm = visc / utau**4.\n",
    "\n",
    "nc        = nc4.Dataset('data/moser600.default.mean.nc')\n",
    "zp        = nc.variables['z'][:] * utau / visc\n",
    "tke_diss  = nc.variables['tke_diss'] [:] * norm\n",
    "tke_shear = nc.variables['tke_shear'][:] * norm\n",
    "tke_turb  = nc.variables['tke_turb'] [:] * norm\n",
    "tke_visc  = nc.variables['tke_visc'] [:] * norm\n",
    "tke_pres  = nc.variables['tke_pres'] [:] * norm"
   ]
  },
  {
   "cell_type": "markdown",
   "metadata": {
    "slideshow": {
     "slide_type": "fragment"
    }
   },
   "source": [
    "Quick plot to inspect results:"
   ]
  },
  {
   "cell_type": "code",
   "execution_count": 58,
   "metadata": {
    "collapsed": false,
    "slideshow": {
     "slide_type": "fragment"
    }
   },
   "outputs": [
    {
     "data": {
      "text/plain": [
       "[<matplotlib.lines.Line2D at 0x10fca7c88>]"
      ]
     },
     "execution_count": 58,
     "metadata": {},
     "output_type": "execute_result"
    },
    {
     "data": {
      "image/png": "[encoded data removed]",
      "text/plain": [
       "<matplotlib.figure.Figure at 0x10fcb77f0>"
      ]
     },
     "metadata": {},
     "output_type": "display_data"
    }
   ],
   "source": [
    "pl.figure()\n",
    "pl.plot(zp, tke_diss)\n",
    "pl.plot(zp, tke_shear)\n",
    "pl.plot(zp, tke_turb)\n",
    "pl.plot(zp, tke_visc)\n",
    "pl.plot(zp, tke_pres)"
   ]
  },
  {
   "cell_type": "markdown",
   "metadata": {
    "slideshow": {
     "slide_type": "fragment"
    }
   },
   "source": [
    "Publication quality figure:"
   ]
  },
  {
   "cell_type": "code",
   "execution_count": 60,
   "metadata": {
    "collapsed": false,
    "slideshow": {
     "slide_type": "fragment"
    }
   },
   "outputs": [
    {
     "data": {
      "image/png": "[encoded data removed]",
      "text/plain": [
       "<matplotlib.figure.Figure at 0x10f47f9b0>"
      ]
     },
     "metadata": {},
     "output_type": "display_data"
    }
   ],
   "source": [
    "pl.figure()\n",
    "ax = pl.subplot(111)\n",
    "pl.title('a) TKE budget MicroHH', loc='left')\n",
    "pl.semilogx(zp, tke_diss,  label=r'$\\epsilon$')\n",
    "pl.semilogx(zp, tke_shear, label=r'$\\mathcal{S}$')\n",
    "pl.semilogx(zp, tke_turb,  label=r'$\\mathcal{T}$')\n",
    "pl.semilogx(zp, tke_visc,  label=r'$\\mathcal{T}_\\nu$')\n",
    "pl.semilogx(zp, tke_pres,  label=r'$\\mathcal{P}$')\n",
    "pl.legend(frameon=False, loc=4, ncol=2)\n",
    "pl.xlabel(r'$z \\ u_\\tau / \\nu \\ (-)$')\n",
    "pl.ylabel(r'$\\partial \\left<TKE\\right>/\\partial t$ (-)')\n",
    "pl.xlim(1, 500)\n",
    "ax.spines['right'].set_visible(False)\n",
    "ax.get_yaxis().tick_left()\n",
    "ax.spines['top'].set_visible(False)\n",
    "ax.get_xaxis().tick_bottom()\n",
    "pl.savefig('TKE_budget.pdf')"
   ]
  },
  {
   "cell_type": "markdown",
   "metadata": {
    "slideshow": {
     "slide_type": "slide"
    }
   },
   "source": [
    "# 2 Documentation / getting help\n",
    "\n",
    "### Online resources:\n",
    "* Python: https://www.python.org/doc/\n",
    "* Numpy: http://docs.scipy.org/doc/\n",
    "* Matplotlib: http://matplotlib.org/contents.html\n",
    "\n",
    "### Ipython help function:\n",
    "Typing e.g. `np.zeros?` in IPython will give you basic documentation\n",
    "\n",
    "### Getting help:\n",
    "* Python-friends mailing list (before at ZMAW, now at LRZ)\n",
    "* Stackoverflow (478034 Python related questions)"
   ]
  }
 ],
 "metadata": {
  "celltoolbar": "Slideshow",
  "kernelspec": {
   "display_name": "Python 3",
   "language": "python",
   "name": "python3"
  },
  "language_info": {
   "codemirror_mode": {
    "name": "ipython",
    "version": 3
   },
   "file_extension": ".py",
   "mimetype": "text/x-python",
   "name": "python",
   "nbconvert_exporter": "python",
   "pygments_lexer": "ipython3",
   "version": "3.4.3"
  }
 },
 "nbformat": 4,
 "nbformat_minor": 0
}
