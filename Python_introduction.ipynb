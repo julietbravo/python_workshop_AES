{
 "cells": [
  {
   "cell_type": "markdown",
   "metadata": {
    "slideshow": {
     "slide_type": "slide"
    }
   },
   "source": [
    "# Introduction to Python for scientific research\n",
    "*Bart van Stratum, Max Planck Institute for Meteorology, Hamburg*\n",
    "\n",
    "AES Python workshop, 7-8 October 2015, MPI-M\n",
    "\n",
    "This notebook is available at https://github.com/julietbravo/python_workshop_AES"
   ]
  },
  {
   "cell_type": "markdown",
   "metadata": {
    "slideshow": {
     "slide_type": "subslide"
    }
   },
   "source": [
    "### Outline / programm:\n",
    "My talk:\n",
    "1. Introduction\n",
    "2. Running Python (on MPI systems, and your PC)\n",
    "3. ...\n",
    "\n",
    "Chiel's talk:\n",
    "1. .....\n",
    "\n",
    "Sebastian's talk:\n",
    "1. .....\n",
    "\n",
    "Lectures are only intended to provide a very basic introduction, focus is on the practical!"
   ]
  },
  {
   "cell_type": "markdown",
   "metadata": {
    "slideshow": {
     "slide_type": "subslide"
    }
   },
   "source": [
    "# 1 Introduction\n",
    "### The origin of Python\n",
    "\n",
    "> *\"Over six years ago, in December 1989, I was looking for a \"hobby\" programming project that would keep me occupied during the week around Christmas...”* — Guido van Rossum\n",
    "\n",
    "### Python: general-purpose, high-level programming language \n",
    "* General purpose: more than a plotting language!  \n",
    "􏰀  * One of the key languages at e.g. Google, CERN, NASA   \n",
    "* High-level: focus on code readability, short syntax  \n",
    "* Interpreted language"
   ]
  },
  {
   "cell_type": "markdown",
   "metadata": {
    "slideshow": {
     "slide_type": "subslide"
    }
   },
   "source": [
    "### Why use Python for your research?\n",
    "*(my personal opinion, and in random order)*\n",
    "\n",
    "1. Easy to learn, and read / write code\n",
    "2. It's free! (unlike Matlab, IDL, ...)\n",
    "3. Well documented (I'll get back to that), easy to get support (Stackoverflow)\n",
    "4. Capable of handling your entire scientific workflow"
   ]
  },
  {
   "cell_type": "markdown",
   "metadata": {
    "slideshow": {
     "slide_type": "subslide"
    }
   },
   "source": [
    "### Python 2 vs. Python 3\n",
    "Extensive discussion at https://wiki.python.org/moin/Python2orPython3\n",
    "> Python 2.x is legacy, Python 3.x is the present and future\n",
    "\n",
    "* Python 3: released in 2008, stable and actively developed version, currently at version 3.5\n",
    "* Python 2: last release in 2010, maintained but not actively developed\n",
    "  \n",
    "Python 3 = backwards-incompatible release! Some Python 3 features backported to 2.7\n",
    "\n",
    "#### My recommendation: use Python 3"
   ]
  },
  {
   "cell_type": "markdown",
   "metadata": {
    "slideshow": {
     "slide_type": "slide"
    }
   },
   "source": [
    "# 2 Getting started with Python\n",
    "## 2.1 Install or load Python\n",
    "Python core by default installed on (almost?) all Linux distributions and OS X. Useful extensions (discussed later) available through package managers  \n",
    "\n",
    "##### On MPI systems (desktops, Thunder): \n",
    "* `module load python` (Python 2.7)\n",
    "* `module load python3/3.4.2` (Python 3.4)\n",
    "\n",
    "##### OS X using Macports:\n",
    "* `sudo port install python34 py34-ipython py34-numpy py34-matplotlib py34-netcdf4`\n",
    "\n",
    "##### Windows (untested):\n",
    "* Enthought Canopy (https://www.enthought.com)  \n",
    "  * Free version available which excludes... support for plotting maps"
   ]
  },
  {
   "cell_type": "markdown",
   "metadata": {
    "slideshow": {
     "slide_type": "subslide"
    }
   },
   "source": [
    "## 2.2 Running Python code\n",
    "\n",
    "Two options:\n",
    "1. Write code in a script (.py extension), call Python interpreter (`$ python xx.py`)\n",
    "2. Run code in interactive Python shell (IPython), great for development / debugging: \n",
    "  * Allows you to run scripts, interactively type code, access variables, etc.\n",
    "\n",
    "Example IPython (start from command line with `ipython`):"
   ]
  },
  {
   "cell_type": "markdown",
   "metadata": {
    "collapsed": false,
    "slideshow": {
     "slide_type": "fragment"
    }
   },
   "source": [
    "#### Script: hello_world.py  \n",
    "`print('hello world!')`  \n",
    "`pi = 3.1415`\n"
   ]
  },
  {
   "cell_type": "code",
   "execution_count": 16,
   "metadata": {
    "collapsed": false,
    "slideshow": {
     "slide_type": "fragment"
    }
   },
   "outputs": [
    {
     "name": "stdout",
     "output_type": "stream",
     "text": [
      "hello world!\n"
     ]
    }
   ],
   "source": [
    "run hello_world.py"
   ]
  },
  {
   "cell_type": "markdown",
   "metadata": {
    "slideshow": {
     "slide_type": "fragment"
    }
   },
   "source": [
    "Directly access variable in Python interpreter:"
   ]
  },
  {
   "cell_type": "code",
   "execution_count": 17,
   "metadata": {
    "collapsed": false,
    "slideshow": {
     "slide_type": "fragment"
    }
   },
   "outputs": [
    {
     "data": {
      "text/plain": [
       "9.4245"
      ]
     },
     "execution_count": 17,
     "metadata": {},
     "output_type": "execute_result"
    }
   ],
   "source": [
    "3*pi"
   ]
  },
  {
   "cell_type": "code",
   "execution_count": 3,
   "metadata": {
    "collapsed": true,
    "slideshow": {
     "slide_type": "fragment"
    }
   },
   "outputs": [],
   "source": [
    "import numpy as np\n",
    "np.max?"
   ]
  },
  {
   "cell_type": "markdown",
   "metadata": {
    "slideshow": {
     "slide_type": "subslide"
    }
   },
   "source": [
    "## 2.3 Python extensions\n",
    "Python standard library provides basic functionality, often useful (or necessary) to extend\n",
    "\n",
    "Useful (for us..) examples:\n",
    "1. NumPy: multi-dimensional arrays + functions to manipulate them\n",
    "2. matplotlib (pylab) + basemap: plotting (line, contour, maps, ..)\n",
    "3. NetCDF4: reading / writing netCDF files\n",
    "4. .....\n",
    "\n",
    "\n",
    "\n"
   ]
  },
  {
   "cell_type": "markdown",
   "metadata": {
    "slideshow": {
     "slide_type": "subslide"
    }
   },
   "source": [
    "#### How to use the extensions: import statement"
   ]
  },
  {
   "cell_type": "code",
   "execution_count": 18,
   "metadata": {
    "collapsed": false,
    "slideshow": {
     "slide_type": "fragment"
    }
   },
   "outputs": [
    {
     "data": {
      "text/plain": [
       "(array([ 0.,  0.]), array([ 1.,  1.]))"
      ]
     },
     "execution_count": 18,
     "metadata": {},
     "output_type": "execute_result"
    }
   ],
   "source": [
    "import numpy # import using default name\n",
    "numpy.zeros(2), numpy.ones(2)"
   ]
  },
  {
   "cell_type": "code",
   "execution_count": 19,
   "metadata": {
    "collapsed": false,
    "slideshow": {
     "slide_type": "fragment"
    }
   },
   "outputs": [
    {
     "data": {
      "text/plain": [
       "(array([ 0.,  0.]), array([ 1.,  1.]))"
      ]
     },
     "execution_count": 19,
     "metadata": {},
     "output_type": "execute_result"
    }
   ],
   "source": [
    "import numpy as np # abbreviated name\n",
    "np.zeros(2), np.ones(2)"
   ]
  },
  {
   "cell_type": "code",
   "execution_count": 20,
   "metadata": {
    "collapsed": true,
    "slideshow": {
     "slide_type": "skip"
    }
   },
   "outputs": [],
   "source": [
    "reset -f "
   ]
  },
  {
   "cell_type": "code",
   "execution_count": 21,
   "metadata": {
    "collapsed": false,
    "slideshow": {
     "slide_type": "fragment"
    }
   },
   "outputs": [
    {
     "ename": "NameError",
     "evalue": "name 'ones' is not defined",
     "output_type": "error",
     "traceback": [
      "\u001b[0;31m---------------------------------------------------------------------------\u001b[0m",
      "\u001b[0;31mNameError\u001b[0m                                 Traceback (most recent call last)",
      "\u001b[0;32m<ipython-input-21-98883d90da77>\u001b[0m in \u001b[0;36m<module>\u001b[0;34m()\u001b[0m\n\u001b[1;32m      1\u001b[0m \u001b[0;32mfrom\u001b[0m \u001b[0mnumpy\u001b[0m \u001b[0;32mimport\u001b[0m \u001b[0mzeros\u001b[0m \u001b[0;31m# specific import\u001b[0m\u001b[0;34m\u001b[0m\u001b[0m\n\u001b[0;32m----> 2\u001b[0;31m \u001b[0mones\u001b[0m\u001b[0;34m(\u001b[0m\u001b[0;36m2\u001b[0m\u001b[0;34m)\u001b[0m \u001b[0;31m# undefined\u001b[0m\u001b[0;34m\u001b[0m\u001b[0m\n\u001b[0m",
      "\u001b[0;31mNameError\u001b[0m: name 'ones' is not defined"
     ]
    }
   ],
   "source": [
    "from numpy import zeros # specific import\n",
    "ones(2) # undefined"
   ]
  },
  {
   "cell_type": "code",
   "execution_count": 22,
   "metadata": {
    "collapsed": false,
    "slideshow": {
     "slide_type": "fragment"
    }
   },
   "outputs": [
    {
     "data": {
      "text/plain": [
       "(array([ 0.,  0.]), array([ 1.,  1.]))"
      ]
     },
     "execution_count": 22,
     "metadata": {},
     "output_type": "execute_result"
    }
   ],
   "source": [
    "from numpy import * # import everything\n",
    "zeros(2), ones(2)"
   ]
  },
  {
   "cell_type": "markdown",
   "metadata": {
    "slideshow": {
     "slide_type": "fragment"
    }
   },
   "source": [
    "`import *` can by tricky:"
   ]
  },
  {
   "cell_type": "code",
   "execution_count": 23,
   "metadata": {
    "collapsed": false,
    "slideshow": {
     "slide_type": "fragment"
    }
   },
   "outputs": [
    {
     "data": {
      "text/plain": [
       "3.141592653589793"
      ]
     },
     "execution_count": 23,
     "metadata": {},
     "output_type": "execute_result"
    }
   ],
   "source": [
    "pi = 0\n",
    "from numpy import * # contains definition of pi\n",
    "pi"
   ]
  },
  {
   "cell_type": "markdown",
   "metadata": {
    "slideshow": {
     "slide_type": "slide"
    }
   },
   "source": [
    "## 2.4 Python basics\n",
    "### 2.4.1 Variables\n",
    "\n",
    "Python uses *duck typing*:\n",
    "> *\"If a bird looks like a duck, swims like a duck, and quacks like a duck, then it probably is a duck.\"*"
   ]
  },
  {
   "cell_type": "code",
   "execution_count": 24,
   "metadata": {
    "collapsed": false,
    "slideshow": {
     "slide_type": "fragment"
    }
   },
   "outputs": [
    {
     "data": {
      "text/plain": [
       "(int, float, str)"
      ]
     },
     "execution_count": 24,
     "metadata": {},
     "output_type": "execute_result"
    }
   ],
   "source": [
    "var_1 = 1\n",
    "var_2 = 1.\n",
    "var_3 = \"1\"\n",
    "\n",
    "type(var_1), type(var_2), type(var_3)"
   ]
  },
  {
   "cell_type": "markdown",
   "metadata": {
    "slideshow": {
     "slide_type": "fragment"
    }
   },
   "source": [
    "Explicit casting:"
   ]
  },
  {
   "cell_type": "code",
   "execution_count": 25,
   "metadata": {
    "collapsed": false,
    "slideshow": {
     "slide_type": "fragment"
    }
   },
   "outputs": [
    {
     "data": {
      "text/plain": [
       "(float, int, float)"
      ]
     },
     "execution_count": 25,
     "metadata": {},
     "output_type": "execute_result"
    }
   ],
   "source": [
    "var_1 = float(1)\n",
    "var_2 = int(1.)\n",
    "var_3 = float(\"1\")\n",
    "\n",
    "type(var_1), type(var_2), type(var_3)"
   ]
  },
  {
   "cell_type": "markdown",
   "metadata": {
    "slideshow": {
     "slide_type": "subslide"
    }
   },
   "source": [
    "### 2.4.2 Data structures\n",
    "\n",
    "#### 2.4.2.1 Lists: constructor [a,b,c]"
   ]
  },
  {
   "cell_type": "code",
   "execution_count": 26,
   "metadata": {
    "collapsed": false,
    "slideshow": {
     "slide_type": "fragment"
    }
   },
   "outputs": [],
   "source": [
    "time = [0,1,2,3,4,5,6,7,8,9]"
   ]
  },
  {
   "cell_type": "markdown",
   "metadata": {
    "slideshow": {
     "slide_type": "fragment"
    }
   },
   "source": [
    "Values accesible based on index or slice:  "
   ]
  },
  {
   "cell_type": "code",
   "execution_count": 27,
   "metadata": {
    "collapsed": false,
    "slideshow": {
     "slide_type": "fragment"
    }
   },
   "outputs": [
    {
     "data": {
      "text/plain": [
       "(0, [1, 2, 3], [0, 2, 4])"
      ]
     },
     "execution_count": 27,
     "metadata": {},
     "output_type": "execute_result"
    }
   ],
   "source": [
    "time[0], time[1:4], time[0:6:2]"
   ]
  },
  {
   "cell_type": "markdown",
   "metadata": {
    "slideshow": {
     "slide_type": "fragment"
    }
   },
   "source": [
    "*Note that indexing starts at zero, slicing exludes last element*\n",
    "\n",
    "Lists sizes can directly be changed:"
   ]
  },
  {
   "cell_type": "code",
   "execution_count": 28,
   "metadata": {
    "collapsed": false,
    "slideshow": {
     "slide_type": "fragment"
    }
   },
   "outputs": [
    {
     "data": {
      "text/plain": [
       "[1, 2, 3, 4, 5, 7, 8, 9, 10]"
      ]
     },
     "execution_count": 28,
     "metadata": {},
     "output_type": "execute_result"
    }
   ],
   "source": [
    "time.append(10) # Append a value\n",
    "time.remove(0)  # Remove first occurance of value\n",
    "time.pop(5)     # Remove an element\n",
    "time"
   ]
  },
  {
   "cell_type": "markdown",
   "metadata": {
    "slideshow": {
     "slide_type": "subslide"
    }
   },
   "source": [
    "#### 2.4.2.2 Tuples: constructor (a,b,c) \n",
    "Like a list, but not mutable"
   ]
  },
  {
   "cell_type": "code",
   "execution_count": 29,
   "metadata": {
    "collapsed": false,
    "slideshow": {
     "slide_type": "fragment"
    }
   },
   "outputs": [
    {
     "data": {
      "text/plain": [
       "('hamburg', 'cabauw', 'karlsruhe')"
      ]
     },
     "execution_count": 29,
     "metadata": {},
     "output_type": "execute_result"
    }
   ],
   "source": [
    "stations = ('hamburg','cabauw','karlsruhe')\n",
    "stations"
   ]
  },
  {
   "cell_type": "markdown",
   "metadata": {
    "slideshow": {
     "slide_type": "fragment"
    }
   },
   "source": [
    "After defining them, unable to change, append or remove items"
   ]
  },
  {
   "cell_type": "markdown",
   "metadata": {
    "slideshow": {
     "slide_type": "subslide"
    }
   },
   "source": [
    "#### 2.4.2.3 Dictionaries: constructor {'a':0, 'b':1}\n",
    "Combination of keys and values, values accesible by keys:"
   ]
  },
  {
   "cell_type": "code",
   "execution_count": 30,
   "metadata": {
    "collapsed": false,
    "slideshow": {
     "slide_type": "fragment"
    }
   },
   "outputs": [
    {
     "data": {
      "text/plain": [
       "(290, -2)"
      ]
     },
     "execution_count": 30,
     "metadata": {},
     "output_type": "execute_result"
    }
   ],
   "source": [
    "data = {'T': 290, 'q': 10e-3, 'u': -2}\n",
    "data['T'], data['u']"
   ]
  },
  {
   "cell_type": "markdown",
   "metadata": {
    "slideshow": {
     "slide_type": "fragment"
    }
   },
   "source": [
    "Are mutable:"
   ]
  },
  {
   "cell_type": "code",
   "execution_count": 31,
   "metadata": {
    "collapsed": false,
    "slideshow": {
     "slide_type": "fragment"
    }
   },
   "outputs": [
    {
     "data": {
      "text/plain": [
       "{'T': 300, 'q': 0.01, 'v': 3}"
      ]
     },
     "execution_count": 31,
     "metadata": {},
     "output_type": "execute_result"
    }
   ],
   "source": [
    "data['T'] = 300  # Change element\n",
    "data['v'] = 3    # Add element\n",
    "data.pop('u')    # Remove element (or del data['u'])\n",
    "data"
   ]
  },
  {
   "cell_type": "markdown",
   "metadata": {
    "slideshow": {
     "slide_type": "subslide"
    }
   },
   "source": [
    "#### 2.4.2.4 Numpy arrays"
   ]
  },
  {
   "cell_type": "code",
   "execution_count": 32,
   "metadata": {
    "collapsed": false,
    "slideshow": {
     "slide_type": "fragment"
    }
   },
   "outputs": [],
   "source": [
    "import numpy as np\n",
    "a1 = np.zeros(4)  # Array initialized with zeros\n",
    "a2 = np.ones(4)   #   \"         \"      \"   ones\n",
    "a3 = np.empty(4)  # Uninitialized array"
   ]
  },
  {
   "cell_type": "markdown",
   "metadata": {
    "slideshow": {
     "slide_type": "fragment"
    }
   },
   "source": [
    "Multi-dimensional arrays:"
   ]
  },
  {
   "cell_type": "code",
   "execution_count": 33,
   "metadata": {
    "collapsed": false,
    "slideshow": {
     "slide_type": "fragment"
    }
   },
   "outputs": [],
   "source": [
    "a4 = np.zeros((2,2,2))\n",
    "a5 = np.zeros((2,2,2), dtype=np.int)"
   ]
  },
  {
   "cell_type": "markdown",
   "metadata": {
    "slideshow": {
     "slide_type": "fragment"
    }
   },
   "source": [
    "More information on Numpy arrays and how to efficiently use them in Chiel's talk"
   ]
  },
  {
   "cell_type": "markdown",
   "metadata": {
    "slideshow": {
     "slide_type": "subslide"
    }
   },
   "source": [
    "### 2.4.3 Objects\n",
    "Python is object-oriented (OO); enough material to cover a one-week workshop, so I'll only provide a single useful example\n",
    "\n",
    "Example: reading in multiple files"
   ]
  },
  {
   "cell_type": "code",
   "execution_count": 34,
   "metadata": {
    "collapsed": false,
    "slideshow": {
     "slide_type": "fragment"
    }
   },
   "outputs": [],
   "source": [
    "import netCDF4 as nc4\n",
    "\n",
    "f1     = nc4.Dataset('data/drycblles_1.nc', 'r')\n",
    "time1  = f1.variables[\"t\"][:]\n",
    "ustar1 = f1.variables[\"ustar\"][:]\n",
    "obuk1  = f1.variables[\"obuk\"][:]\n",
    "# and ~60 more variables\n",
    "\n",
    "f2     = nc4.Dataset('data/drycblles_2.nc', 'r')\n",
    "time2  = f2.variables[\"t\"][:]\n",
    "ustar2 = f2.variables[\"ustar\"][:]\n",
    "# etc.\n",
    "\n",
    "f3     = nc4.Dataset('data/drycblles_3.nc', 'r')\n",
    "time3  = f3.variables[\"t\"][:]\n",
    "# etc."
   ]
  },
  {
   "cell_type": "markdown",
   "metadata": {
    "slideshow": {
     "slide_type": "fragment"
    }
   },
   "source": [
    "Lots of double code, every change (add/remove variable, ..) requires code change for every file"
   ]
  },
  {
   "cell_type": "markdown",
   "metadata": {
    "slideshow": {
     "slide_type": "subslide"
    }
   },
   "source": [
    "#### Object oriented approach:"
   ]
  },
  {
   "cell_type": "code",
   "execution_count": 35,
   "metadata": {
    "collapsed": false,
    "slideshow": {
     "slide_type": "fragment"
    }
   },
   "outputs": [
    {
     "data": {
      "text/plain": [
       "array([    0.,   300.,   600.,   900.,  1200.,  1500.,  1800.,  2100.,\n",
       "        2400.,  2700.,  3000.,  3300.,  3600.,  3900.,  4200.,  4500.,\n",
       "        4800.,  5100.])"
      ]
     },
     "execution_count": 35,
     "metadata": {},
     "output_type": "execute_result"
    }
   ],
   "source": [
    "import netCDF4 as nc4\n",
    " \n",
    "class read_nc:    # class definition\n",
    "    def __init__(self, file_name):    # constructor\n",
    "        f = nc4.Dataset(file_name, 'r')\n",
    "        \n",
    "        self.time  = f.variables[\"t\"][:]\n",
    "        self.ustar = f.variables[\"ustar\"][:]\n",
    "        self.obuk  = f.variables[\"obuk\"][:]\n",
    "        # and 100 more variables\n",
    "    \n",
    "    def post_process(self):\n",
    "        self.time_hour = self.time / 3600.\n",
    "        \n",
    "r1 = read_nc('data/drycblles_1.nc')\n",
    "r2 = read_nc('data/drycblles_2.nc')\n",
    "r3 = read_nc('data/drycblles_3.nc')\n",
    "\n",
    "r1.time"
   ]
  },
  {
   "cell_type": "code",
   "execution_count": 36,
   "metadata": {
    "collapsed": false,
    "slideshow": {
     "slide_type": "fragment"
    }
   },
   "outputs": [
    {
     "data": {
      "text/plain": [
       "array([ 0.        ,  0.08333333,  0.16666667,  0.25      ,  0.33333333,\n",
       "        0.41666667,  0.5       ,  0.58333333,  0.66666667,  0.75      ,\n",
       "        0.83333333,  0.91666667,  1.        ,  1.08333333,  1.16666667,\n",
       "        1.25      ,  1.33333333,  1.41666667])"
      ]
     },
     "execution_count": 36,
     "metadata": {},
     "output_type": "execute_result"
    }
   ],
   "source": [
    "r1.post_process()\n",
    "r1.time_hour"
   ]
  },
  {
   "cell_type": "markdown",
   "metadata": {
    "slideshow": {
     "slide_type": "subslide"
    }
   },
   "source": [
    "### 2.4.4 Loops\n",
    "\n",
    "Two options: `for:` and `while:`"
   ]
  },
  {
   "cell_type": "code",
   "execution_count": 44,
   "metadata": {
    "collapsed": false,
    "slideshow": {
     "slide_type": "fragment"
    }
   },
   "outputs": [
    {
     "name": "stdout",
     "output_type": "stream",
     "text": [
      "0\n",
      "1\n"
     ]
    }
   ],
   "source": [
    "for i in range(2): # equivalent to range(0,2)\n",
    "    print(i)"
   ]
  },
  {
   "cell_type": "code",
   "execution_count": 5,
   "metadata": {
    "collapsed": false,
    "slideshow": {
     "slide_type": "fragment"
    }
   },
   "outputs": [],
   "source": [
    "i = 10\n",
    "while i > 1:\n",
    "    i /= 2   # i = i / 2"
   ]
  },
  {
   "cell_type": "markdown",
   "metadata": {
    "slideshow": {
     "slide_type": "fragment"
    }
   },
   "source": [
    "Indentation determines body of loop:"
   ]
  },
  {
   "cell_type": "code",
   "execution_count": 66,
   "metadata": {
    "collapsed": false,
    "slideshow": {
     "slide_type": "fragment"
    }
   },
   "outputs": [],
   "source": [
    "for i in range(2):\n",
    "    for j in range(2):\n",
    "        for k in range(2):\n",
    "            pass # i.e. do nothing\n",
    "        # part of j-loop"
   ]
  },
  {
   "cell_type": "markdown",
   "metadata": {
    "slideshow": {
     "slide_type": "fragment"
    }
   },
   "source": [
    "Python is not very strict on indentation:"
   ]
  },
  {
   "cell_type": "code",
   "execution_count": 69,
   "metadata": {
    "collapsed": false,
    "slideshow": {
     "slide_type": "fragment"
    }
   },
   "outputs": [],
   "source": [
    "for i in range(1):\n",
    " pass\n",
    "for i in range(1):\n",
    "                   pass\n",
    "for i in range(1):\n",
    "         pass\n",
    "\n",
    "for i in range(1):\n",
    "             for j in range(1):\n",
    "              for k in range(1):\n",
    "                                 pass"
   ]
  },
  {
   "cell_type": "markdown",
   "metadata": {
    "slideshow": {
     "slide_type": "fragment"
    }
   },
   "source": [
    "> *\"How To Write Unmaintainable Code and Ensure a job for life ;-)\"*\n",
    "https://www.thc.org/root/phun/unmaintain.html"
   ]
  },
  {
   "cell_type": "markdown",
   "metadata": {
    "slideshow": {
     "slide_type": "subslide"
    }
   },
   "source": [
    "### 2.4.4 Functions"
   ]
  },
  {
   "cell_type": "code",
   "execution_count": 1,
   "metadata": {
    "collapsed": false,
    "slideshow": {
     "slide_type": "fragment"
    }
   },
   "outputs": [
    {
     "data": {
      "text/plain": [
       "0.970331031603382"
      ]
     },
     "execution_count": 1,
     "metadata": {},
     "output_type": "execute_result"
    }
   ],
   "source": [
    "cp = 1004.\n",
    "Rd = 287.\n",
    "def exner(p, p0):\n",
    "    return (p/p0)**(Rd/cp)\n",
    "\n",
    "exner(90000, 1e5)  "
   ]
  },
  {
   "cell_type": "markdown",
   "metadata": {
    "slideshow": {
     "slide_type": "fragment"
    }
   },
   "source": [
    "Default arguments are possible:"
   ]
  },
  {
   "cell_type": "code",
   "execution_count": 2,
   "metadata": {
    "collapsed": false,
    "slideshow": {
     "slide_type": "fragment"
    }
   },
   "outputs": [
    {
     "data": {
      "text/plain": [
       "(0.970331031603382, 0.9667549928755136)"
      ]
     },
     "execution_count": 2,
     "metadata": {},
     "output_type": "execute_result"
    }
   ],
   "source": [
    "def exner(p, p0=1e5):\n",
    "    return (p/p0)**(Rd/cp)\n",
    "\n",
    "exner(90000), exner(90000,101300)"
   ]
  },
  {
   "cell_type": "markdown",
   "metadata": {
    "slideshow": {
     "slide_type": "fragment"
    }
   },
   "source": [
    "Easy to operate on arrays:"
   ]
  },
  {
   "cell_type": "code",
   "execution_count": 4,
   "metadata": {
    "collapsed": false,
    "slideshow": {
     "slide_type": "fragment"
    }
   },
   "outputs": [
    {
     "data": {
      "text/plain": [
       "array([ 0.90306759,  0.91567175,  0.92785679,  0.93965467,  0.95109368,\n",
       "        0.96219894,  0.97299292,  0.98349577,  0.99372566,  1.00369901])"
      ]
     },
     "execution_count": 4,
     "metadata": {},
     "output_type": "execute_result"
    }
   ],
   "source": [
    "import numpy as np\n",
    "\n",
    "def exner(p, p0=1e5):\n",
    "    return (p/p0)**(Rd/cp)\n",
    "\n",
    "p = np.linspace(70000, 101300, 10)\n",
    "exner(p)"
   ]
  },
  {
   "cell_type": "markdown",
   "metadata": {
    "slideshow": {
     "slide_type": "slide"
    }
   },
   "source": [
    "# 2 Tips 'n tricks\n",
    "## 2.1 Input & output\n",
    "### 2.1.1 Text files  \n",
    "The easy ones (structured files, only numbers):"
   ]
  },
  {
   "cell_type": "code",
   "execution_count": 8,
   "metadata": {
    "collapsed": false,
    "slideshow": {
     "slide_type": "fragment"
    }
   },
   "outputs": [
    {
     "data": {
      "text/plain": [
       "(array([   0.,   30.,   60.,   90.,  120.]),\n",
       " array([  290.,   291.,   292., -9999.,   294.]),\n",
       " array([  285.,   286.,   287.,   288., -9999.]))"
      ]
     },
     "execution_count": 8,
     "metadata": {},
     "output_type": "execute_result"
    }
   ],
   "source": [
    "import numpy as np\n",
    "\n",
    "f = np.loadtxt('data/some_data.txt')\n",
    "time = f[:,0]\n",
    "T    = f[:,1]\n",
    "Td   = f[:,2]\n",
    "\n",
    "time, T, Td"
   ]
  },
  {
   "cell_type": "markdown",
   "metadata": {
    "slideshow": {
     "slide_type": "fragment"
    }
   },
   "source": [
    "Structured files, but mixed data (numbers, string, ..): see `np.genfromtxt`\n",
    "\n",
    "Last resort:"
   ]
  },
  {
   "cell_type": "code",
   "execution_count": 9,
   "metadata": {
    "collapsed": false,
    "slideshow": {
     "slide_type": "fragment"
    }
   },
   "outputs": [
    {
     "name": "stdout",
     "output_type": "stream",
     "text": [
      "['#', 'time', 'T', 'Td']\n",
      "['0', '290', '285']\n",
      "['30', '291', '286']\n",
      "['60', '292', '287']\n",
      "['90', '-9999', '288']\n",
      "['120', '294', '-9999']\n"
     ]
    }
   ],
   "source": [
    "f = open('data/some_data.txt', 'r')\n",
    "for line in f:\n",
    "    print(line.split())"
   ]
  },
  {
   "cell_type": "markdown",
   "metadata": {
    "slideshow": {
     "slide_type": "subslide"
    }
   },
   "source": [
    "### Intermezzo: dealing with bad/missing data\n",
    "\n",
    "NetCDF: `fill_value` from NetCDF file is automatically masked\n",
    "\n",
    "Manually masking arrays (`numpy.ma`):"
   ]
  },
  {
   "cell_type": "code",
   "execution_count": 21,
   "metadata": {
    "collapsed": false,
    "slideshow": {
     "slide_type": "fragment"
    }
   },
   "outputs": [
    {
     "data": {
      "text/plain": [
       "(array([  290.,   291.,   292., -9999.,   294.]),\n",
       " array([  285.,   286.,   287.,   288., -9999.]))"
      ]
     },
     "execution_count": 21,
     "metadata": {},
     "output_type": "execute_result"
    }
   ],
   "source": [
    "T, Td"
   ]
  },
  {
   "cell_type": "code",
   "execution_count": 22,
   "metadata": {
    "collapsed": false,
    "slideshow": {
     "slide_type": "fragment"
    }
   },
   "outputs": [
    {
     "data": {
      "text/plain": [
       "masked_array(data = [290.0 291.0 292.0 -- 294.0],\n",
       "             mask = [False False False  True False],\n",
       "       fill_value = 1e+20)"
      ]
     },
     "execution_count": 22,
     "metadata": {},
     "output_type": "execute_result"
    }
   ],
   "source": [
    "T_m  = np.ma.masked_where(T  == -9999, T ) \n",
    "Td_m = np.ma.masked_where(Td == -9999, Td)\n",
    "T_m"
   ]
  },
  {
   "cell_type": "markdown",
   "metadata": {
    "slideshow": {
     "slide_type": "fragment"
    }
   },
   "source": [
    "Masked values are exluded from statistics, plots, etc.:"
   ]
  },
  {
   "cell_type": "code",
   "execution_count": 19,
   "metadata": {
    "collapsed": false,
    "slideshow": {
     "slide_type": "fragment"
    }
   },
   "outputs": [
    {
     "data": {
      "text/plain": [
       "(-1766.4000000000001, 291.75)"
      ]
     },
     "execution_count": 19,
     "metadata": {},
     "output_type": "execute_result"
    }
   ],
   "source": [
    "T.mean(), T_m.mean()"
   ]
  },
  {
   "cell_type": "markdown",
   "metadata": {
    "slideshow": {
     "slide_type": "fragment"
    }
   },
   "source": [
    "Masks are propagated:"
   ]
  },
  {
   "cell_type": "code",
   "execution_count": 20,
   "metadata": {
    "collapsed": false,
    "slideshow": {
     "slide_type": "fragment"
    }
   },
   "outputs": [
    {
     "data": {
      "text/plain": [
       "masked_array(data = [5.0 5.0 5.0 -- --],\n",
       "             mask = [False False False  True  True],\n",
       "       fill_value = 1e+20)"
      ]
     },
     "execution_count": 20,
     "metadata": {},
     "output_type": "execute_result"
    }
   ],
   "source": [
    "T_m-Td_m"
   ]
  }
 ],
 "metadata": {
  "celltoolbar": "Slideshow",
  "kernelspec": {
   "display_name": "Python 3",
   "language": "python",
   "name": "python3"
  },
  "language_info": {
   "codemirror_mode": {
    "name": "ipython",
    "version": 3
   },
   "file_extension": ".py",
   "mimetype": "text/x-python",
   "name": "python",
   "nbconvert_exporter": "python",
   "pygments_lexer": "ipython3",
   "version": "3.4.3"
  }
 },
 "nbformat": 4,
 "nbformat_minor": 0
}
